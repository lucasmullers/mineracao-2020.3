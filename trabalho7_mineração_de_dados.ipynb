{
  "nbformat": 4,
  "nbformat_minor": 0,
  "metadata": {
    "colab": {
      "name": "trabalho07_mineração_de_dados.ipynb",
      "provenance": [],
      "collapsed_sections": [],
      "toc_visible": true
    },
    "kernelspec": {
      "display_name": "Python 3",
      "name": "python3"
    }
  },
  "cells": [
    {
      "cell_type": "markdown",
      "metadata": {
        "id": "hU5pYuRI7gkg"
      },
      "source": [
        "# Trabalho 7 - Mineração de Dados - DCC 127\n",
        "# Algorimos de Classificação e métricas de avaliação\n",
        "## Professor: Heder Soares Bernardino\n",
        "\n",
        "### Lucas Augusto Muller\n",
        "### Pedro Henrique Muniz"
      ]
    },
    {
      "cell_type": "code",
      "metadata": {
        "id": "AJHGQJMKF_Bb"
      },
      "source": [
        "import numpy as np\n",
        "import IPython\n",
        "import pandas as pd\n",
        "import matplotlib.pyplot as plt\n",
        "import matplotlib as mpl\n",
        "from collections import Counter\n",
        "import os\n",
        "\n",
        "from sklearn.decomposition import PCA\n",
        "from sklearn.preprocessing import MinMaxScaler\n",
        "from sklearn.model_selection import GridSearchCV\n",
        "from sklearn.linear_model import LogisticRegression, SGDClassifier\n",
        "from sklearn.neighbors import KNeighborsClassifier\n",
        "from sklearn.naive_bayes import GaussianNB\n",
        "from sklearn.ensemble import RandomForestClassifier, BaggingClassifier, VotingClassifier, AdaBoostClassifier, StackingClassifier\n",
        "from sklearn.tree import DecisionTreeClassifier\n",
        "from sklearn.model_selection import GridSearchCV, cross_val_score,train_test_split\n",
        "from sklearn.metrics import confusion_matrix, plot_confusion_matrix, roc_auc_score, roc_curve\n",
        "import xgboost as xgb\n",
        "import itertools\n",
        "\n",
        "from sklearn.cluster import DBSCAN, OPTICS\n",
        "from matplotlib.ticker import FixedLocator, FixedFormatter\n",
        "from xgboost import plot_importance\n",
        "\n",
        "# !pip install daal4py\n",
        "# from daal4py.sklearn import patch_sklearn\n",
        "# patch_sklearn()"
      ],
      "execution_count": null,
      "outputs": []
    },
    {
      "cell_type": "code",
      "metadata": {
        "id": "FCLmi5g2Fwx9",
        "colab": {
          "base_uri": "https://localhost:8080/"
        },
        "outputId": "39da8892-0795-4793-b7d5-4ae866cbe236"
      },
      "source": [
        "!git clone https://github.com/lucasmullers/mineracao-2020.3.git"
      ],
      "execution_count": null,
      "outputs": [
        {
          "output_type": "stream",
          "text": [
            "Cloning into 'mineracao-2020.3'...\n",
            "remote: Enumerating objects: 20, done.\u001b[K\n",
            "remote: Counting objects: 100% (20/20), done.\u001b[K\n",
            "remote: Compressing objects: 100% (19/19), done.\u001b[K\n",
            "remote: Total 20 (delta 6), reused 13 (delta 1), pack-reused 0\u001b[K\n",
            "Unpacking objects: 100% (20/20), done.\n"
          ],
          "name": "stdout"
        }
      ]
    },
    {
      "cell_type": "markdown",
      "metadata": {
        "id": "TCbCyJByV8FU"
      },
      "source": [
        "# Importação dos dados\n",
        "\n",
        "Inicialmente importamos o dataset, imprimimos as informações, checamos se existem dados faltantes e verificamos os tipos dos atributos no dataset."
      ]
    },
    {
      "cell_type": "code",
      "metadata": {
        "id": "E5EfaYgaGIIE",
        "colab": {
          "base_uri": "https://localhost:8080/",
          "height": 1000
        },
        "outputId": "8c16db22-e346-4c27-ca45-8122ac58caf2"
      },
      "source": [
        "train_df = pd.read_csv( './mineracao-2020.3/trabalho7_dados_5.csv' )\n",
        "test_df = pd.read_csv( './mineracao-2020.3/trabalho7_dados_teste.csv' )\n",
        "y_train = pd.DataFrame(train_df['classe'].tolist(), columns=['classe'])\n",
        "train_df = train_df.drop('classe', axis=1)\n",
        "display( train_df )\n",
        "display( test_df )\n",
        "display( y_train )\n",
        "\n",
        "print( train_df.dtypes )\n",
        "print( train_df.isnull().sum() )\n",
        "\n",
        "print( test_df.dtypes )\n",
        "print( test_df.isnull().sum() )"
      ],
      "execution_count": null,
      "outputs": [
        {
          "output_type": "display_data",
          "data": {
            "text/html": [
              "<div>\n",
              "<style scoped>\n",
              "    .dataframe tbody tr th:only-of-type {\n",
              "        vertical-align: middle;\n",
              "    }\n",
              "\n",
              "    .dataframe tbody tr th {\n",
              "        vertical-align: top;\n",
              "    }\n",
              "\n",
              "    .dataframe thead th {\n",
              "        text-align: right;\n",
              "    }\n",
              "</style>\n",
              "<table border=\"1\" class=\"dataframe\">\n",
              "  <thead>\n",
              "    <tr style=\"text-align: right;\">\n",
              "      <th></th>\n",
              "      <th>area</th>\n",
              "      <th>perimetro</th>\n",
              "      <th>maior-eixo</th>\n",
              "      <th>menor-eixo</th>\n",
              "      <th>arredondamento</th>\n",
              "      <th>area-convexa</th>\n",
              "      <th>extensao</th>\n",
              "    </tr>\n",
              "  </thead>\n",
              "  <tbody>\n",
              "    <tr>\n",
              "      <th>0</th>\n",
              "      <td>12243</td>\n",
              "      <td>449.681000</td>\n",
              "      <td>182.026199</td>\n",
              "      <td>87.131706</td>\n",
              "      <td>0.877991</td>\n",
              "      <td>12744</td>\n",
              "      <td>0.778569</td>\n",
              "    </tr>\n",
              "    <tr>\n",
              "      <th>1</th>\n",
              "      <td>12886</td>\n",
              "      <td>455.518005</td>\n",
              "      <td>189.859894</td>\n",
              "      <td>87.499184</td>\n",
              "      <td>0.887472</td>\n",
              "      <td>13080</td>\n",
              "      <td>0.592296</td>\n",
              "    </tr>\n",
              "    <tr>\n",
              "      <th>2</th>\n",
              "      <td>12796</td>\n",
              "      <td>471.209015</td>\n",
              "      <td>203.929626</td>\n",
              "      <td>80.330009</td>\n",
              "      <td>0.919149</td>\n",
              "      <td>13022</td>\n",
              "      <td>0.684059</td>\n",
              "    </tr>\n",
              "    <tr>\n",
              "      <th>3</th>\n",
              "      <td>9983</td>\n",
              "      <td>402.661987</td>\n",
              "      <td>167.374954</td>\n",
              "      <td>76.765961</td>\n",
              "      <td>0.888619</td>\n",
              "      <td>10187</td>\n",
              "      <td>0.596927</td>\n",
              "    </tr>\n",
              "    <tr>\n",
              "      <th>4</th>\n",
              "      <td>14837</td>\n",
              "      <td>499.832001</td>\n",
              "      <td>210.067245</td>\n",
              "      <td>91.268646</td>\n",
              "      <td>0.900685</td>\n",
              "      <td>15263</td>\n",
              "      <td>0.680097</td>\n",
              "    </tr>\n",
              "    <tr>\n",
              "      <th>...</th>\n",
              "      <td>...</td>\n",
              "      <td>...</td>\n",
              "      <td>...</td>\n",
              "      <td>...</td>\n",
              "      <td>...</td>\n",
              "      <td>...</td>\n",
              "      <td>...</td>\n",
              "    </tr>\n",
              "    <tr>\n",
              "      <th>1138</th>\n",
              "      <td>13912</td>\n",
              "      <td>480.842987</td>\n",
              "      <td>206.907043</td>\n",
              "      <td>86.263817</td>\n",
              "      <td>0.908943</td>\n",
              "      <td>14107</td>\n",
              "      <td>0.806259</td>\n",
              "    </tr>\n",
              "    <tr>\n",
              "      <th>1139</th>\n",
              "      <td>15926</td>\n",
              "      <td>522.739990</td>\n",
              "      <td>225.736053</td>\n",
              "      <td>91.057091</td>\n",
              "      <td>0.915033</td>\n",
              "      <td>16240</td>\n",
              "      <td>0.779769</td>\n",
              "    </tr>\n",
              "    <tr>\n",
              "      <th>1140</th>\n",
              "      <td>13507</td>\n",
              "      <td>468.239014</td>\n",
              "      <td>197.509247</td>\n",
              "      <td>87.929596</td>\n",
              "      <td>0.895435</td>\n",
              "      <td>13735</td>\n",
              "      <td>0.577222</td>\n",
              "    </tr>\n",
              "    <tr>\n",
              "      <th>1141</th>\n",
              "      <td>12716</td>\n",
              "      <td>444.108002</td>\n",
              "      <td>186.896393</td>\n",
              "      <td>87.278145</td>\n",
              "      <td>0.884264</td>\n",
              "      <td>12872</td>\n",
              "      <td>0.747384</td>\n",
              "    </tr>\n",
              "    <tr>\n",
              "      <th>1142</th>\n",
              "      <td>11249</td>\n",
              "      <td>419.002991</td>\n",
              "      <td>166.286514</td>\n",
              "      <td>87.629829</td>\n",
              "      <td>0.849877</td>\n",
              "      <td>11593</td>\n",
              "      <td>0.630055</td>\n",
              "    </tr>\n",
              "  </tbody>\n",
              "</table>\n",
              "<p>1143 rows × 7 columns</p>\n",
              "</div>"
            ],
            "text/plain": [
              "       area   perimetro  maior-eixo  ...  arredondamento  area-convexa  extensao\n",
              "0     12243  449.681000  182.026199  ...        0.877991         12744  0.778569\n",
              "1     12886  455.518005  189.859894  ...        0.887472         13080  0.592296\n",
              "2     12796  471.209015  203.929626  ...        0.919149         13022  0.684059\n",
              "3      9983  402.661987  167.374954  ...        0.888619         10187  0.596927\n",
              "4     14837  499.832001  210.067245  ...        0.900685         15263  0.680097\n",
              "...     ...         ...         ...  ...             ...           ...       ...\n",
              "1138  13912  480.842987  206.907043  ...        0.908943         14107  0.806259\n",
              "1139  15926  522.739990  225.736053  ...        0.915033         16240  0.779769\n",
              "1140  13507  468.239014  197.509247  ...        0.895435         13735  0.577222\n",
              "1141  12716  444.108002  186.896393  ...        0.884264         12872  0.747384\n",
              "1142  11249  419.002991  166.286514  ...        0.849877         11593  0.630055\n",
              "\n",
              "[1143 rows x 7 columns]"
            ]
          },
          "metadata": {
            "tags": []
          }
        },
        {
          "output_type": "display_data",
          "data": {
            "text/html": [
              "<div>\n",
              "<style scoped>\n",
              "    .dataframe tbody tr th:only-of-type {\n",
              "        vertical-align: middle;\n",
              "    }\n",
              "\n",
              "    .dataframe tbody tr th {\n",
              "        vertical-align: top;\n",
              "    }\n",
              "\n",
              "    .dataframe thead th {\n",
              "        text-align: right;\n",
              "    }\n",
              "</style>\n",
              "<table border=\"1\" class=\"dataframe\">\n",
              "  <thead>\n",
              "    <tr style=\"text-align: right;\">\n",
              "      <th></th>\n",
              "      <th>area</th>\n",
              "      <th>perimetro</th>\n",
              "      <th>maior-eixo</th>\n",
              "      <th>menor-eixo</th>\n",
              "      <th>arredondamento</th>\n",
              "      <th>area-convexa</th>\n",
              "      <th>extensao</th>\n",
              "    </tr>\n",
              "  </thead>\n",
              "  <tbody>\n",
              "    <tr>\n",
              "      <th>0</th>\n",
              "      <td>13959</td>\n",
              "      <td>477.263000</td>\n",
              "      <td>200.494400</td>\n",
              "      <td>89.459839</td>\n",
              "      <td>0.894935</td>\n",
              "      <td>14242</td>\n",
              "      <td>0.715736</td>\n",
              "    </tr>\n",
              "    <tr>\n",
              "      <th>1</th>\n",
              "      <td>13680</td>\n",
              "      <td>473.085999</td>\n",
              "      <td>194.940384</td>\n",
              "      <td>91.225052</td>\n",
              "      <td>0.883748</td>\n",
              "      <td>14077</td>\n",
              "      <td>0.779487</td>\n",
              "    </tr>\n",
              "    <tr>\n",
              "      <th>2</th>\n",
              "      <td>14333</td>\n",
              "      <td>493.898987</td>\n",
              "      <td>207.509949</td>\n",
              "      <td>89.446159</td>\n",
              "      <td>0.902330</td>\n",
              "      <td>14772</td>\n",
              "      <td>0.559795</td>\n",
              "    </tr>\n",
              "    <tr>\n",
              "      <th>3</th>\n",
              "      <td>16608</td>\n",
              "      <td>516.091980</td>\n",
              "      <td>207.671371</td>\n",
              "      <td>103.350876</td>\n",
              "      <td>0.867369</td>\n",
              "      <td>17111</td>\n",
              "      <td>0.696761</td>\n",
              "    </tr>\n",
              "    <tr>\n",
              "      <th>4</th>\n",
              "      <td>17425</td>\n",
              "      <td>541.802979</td>\n",
              "      <td>232.057556</td>\n",
              "      <td>96.441742</td>\n",
              "      <td>0.909550</td>\n",
              "      <td>17758</td>\n",
              "      <td>0.703955</td>\n",
              "    </tr>\n",
              "    <tr>\n",
              "      <th>...</th>\n",
              "      <td>...</td>\n",
              "      <td>...</td>\n",
              "      <td>...</td>\n",
              "      <td>...</td>\n",
              "      <td>...</td>\n",
              "      <td>...</td>\n",
              "      <td>...</td>\n",
              "    </tr>\n",
              "    <tr>\n",
              "      <th>425</th>\n",
              "      <td>10651</td>\n",
              "      <td>411.002991</td>\n",
              "      <td>167.180099</td>\n",
              "      <td>82.506523</td>\n",
              "      <td>0.869735</td>\n",
              "      <td>10893</td>\n",
              "      <td>0.675054</td>\n",
              "    </tr>\n",
              "    <tr>\n",
              "      <th>426</th>\n",
              "      <td>12525</td>\n",
              "      <td>455.181000</td>\n",
              "      <td>183.669342</td>\n",
              "      <td>88.254333</td>\n",
              "      <td>0.876991</td>\n",
              "      <td>12911</td>\n",
              "      <td>0.709471</td>\n",
              "    </tr>\n",
              "    <tr>\n",
              "      <th>427</th>\n",
              "      <td>11140</td>\n",
              "      <td>429.796997</td>\n",
              "      <td>179.196747</td>\n",
              "      <td>80.076569</td>\n",
              "      <td>0.894602</td>\n",
              "      <td>11346</td>\n",
              "      <td>0.589106</td>\n",
              "    </tr>\n",
              "    <tr>\n",
              "      <th>428</th>\n",
              "      <td>10128</td>\n",
              "      <td>403.725006</td>\n",
              "      <td>166.962952</td>\n",
              "      <td>78.247475</td>\n",
              "      <td>0.883383</td>\n",
              "      <td>10383</td>\n",
              "      <td>0.672242</td>\n",
              "    </tr>\n",
              "    <tr>\n",
              "      <th>429</th>\n",
              "      <td>12742</td>\n",
              "      <td>446.811005</td>\n",
              "      <td>180.020142</td>\n",
              "      <td>91.048119</td>\n",
              "      <td>0.862671</td>\n",
              "      <td>12954</td>\n",
              "      <td>0.791085</td>\n",
              "    </tr>\n",
              "  </tbody>\n",
              "</table>\n",
              "<p>430 rows × 7 columns</p>\n",
              "</div>"
            ],
            "text/plain": [
              "      area   perimetro  maior-eixo  ...  arredondamento  area-convexa  extensao\n",
              "0    13959  477.263000  200.494400  ...        0.894935         14242  0.715736\n",
              "1    13680  473.085999  194.940384  ...        0.883748         14077  0.779487\n",
              "2    14333  493.898987  207.509949  ...        0.902330         14772  0.559795\n",
              "3    16608  516.091980  207.671371  ...        0.867369         17111  0.696761\n",
              "4    17425  541.802979  232.057556  ...        0.909550         17758  0.703955\n",
              "..     ...         ...         ...  ...             ...           ...       ...\n",
              "425  10651  411.002991  167.180099  ...        0.869735         10893  0.675054\n",
              "426  12525  455.181000  183.669342  ...        0.876991         12911  0.709471\n",
              "427  11140  429.796997  179.196747  ...        0.894602         11346  0.589106\n",
              "428  10128  403.725006  166.962952  ...        0.883383         10383  0.672242\n",
              "429  12742  446.811005  180.020142  ...        0.862671         12954  0.791085\n",
              "\n",
              "[430 rows x 7 columns]"
            ]
          },
          "metadata": {
            "tags": []
          }
        },
        {
          "output_type": "display_data",
          "data": {
            "text/html": [
              "<div>\n",
              "<style scoped>\n",
              "    .dataframe tbody tr th:only-of-type {\n",
              "        vertical-align: middle;\n",
              "    }\n",
              "\n",
              "    .dataframe tbody tr th {\n",
              "        vertical-align: top;\n",
              "    }\n",
              "\n",
              "    .dataframe thead th {\n",
              "        text-align: right;\n",
              "    }\n",
              "</style>\n",
              "<table border=\"1\" class=\"dataframe\">\n",
              "  <thead>\n",
              "    <tr style=\"text-align: right;\">\n",
              "      <th></th>\n",
              "      <th>classe</th>\n",
              "    </tr>\n",
              "  </thead>\n",
              "  <tbody>\n",
              "    <tr>\n",
              "      <th>0</th>\n",
              "      <td>1</td>\n",
              "    </tr>\n",
              "    <tr>\n",
              "      <th>1</th>\n",
              "      <td>0</td>\n",
              "    </tr>\n",
              "    <tr>\n",
              "      <th>2</th>\n",
              "      <td>0</td>\n",
              "    </tr>\n",
              "    <tr>\n",
              "      <th>3</th>\n",
              "      <td>1</td>\n",
              "    </tr>\n",
              "    <tr>\n",
              "      <th>4</th>\n",
              "      <td>0</td>\n",
              "    </tr>\n",
              "    <tr>\n",
              "      <th>...</th>\n",
              "      <td>...</td>\n",
              "    </tr>\n",
              "    <tr>\n",
              "      <th>1138</th>\n",
              "      <td>0</td>\n",
              "    </tr>\n",
              "    <tr>\n",
              "      <th>1139</th>\n",
              "      <td>0</td>\n",
              "    </tr>\n",
              "    <tr>\n",
              "      <th>1140</th>\n",
              "      <td>0</td>\n",
              "    </tr>\n",
              "    <tr>\n",
              "      <th>1141</th>\n",
              "      <td>0</td>\n",
              "    </tr>\n",
              "    <tr>\n",
              "      <th>1142</th>\n",
              "      <td>1</td>\n",
              "    </tr>\n",
              "  </tbody>\n",
              "</table>\n",
              "<p>1143 rows × 1 columns</p>\n",
              "</div>"
            ],
            "text/plain": [
              "      classe\n",
              "0          1\n",
              "1          0\n",
              "2          0\n",
              "3          1\n",
              "4          0\n",
              "...      ...\n",
              "1138       0\n",
              "1139       0\n",
              "1140       0\n",
              "1141       0\n",
              "1142       1\n",
              "\n",
              "[1143 rows x 1 columns]"
            ]
          },
          "metadata": {
            "tags": []
          }
        },
        {
          "output_type": "stream",
          "text": [
            "area                int64\n",
            "perimetro         float64\n",
            "maior-eixo        float64\n",
            "menor-eixo        float64\n",
            "arredondamento    float64\n",
            "area-convexa        int64\n",
            "extensao          float64\n",
            "dtype: object\n",
            "area              0\n",
            "perimetro         0\n",
            "maior-eixo        0\n",
            "menor-eixo        0\n",
            "arredondamento    0\n",
            "area-convexa      0\n",
            "extensao          0\n",
            "dtype: int64\n",
            "area                int64\n",
            "perimetro         float64\n",
            "maior-eixo        float64\n",
            "menor-eixo        float64\n",
            "arredondamento    float64\n",
            "area-convexa        int64\n",
            "extensao          float64\n",
            "dtype: object\n",
            "area              0\n",
            "perimetro         0\n",
            "maior-eixo        0\n",
            "menor-eixo        0\n",
            "arredondamento    0\n",
            "area-convexa      0\n",
            "extensao          0\n",
            "dtype: int64\n"
          ],
          "name": "stdout"
        }
      ]
    },
    {
      "cell_type": "markdown",
      "metadata": {
        "id": "sVwKEB0RSr2U"
      },
      "source": [
        "# Normalização dos dados\n",
        "\n",
        "Após verificarmos que não existem dados faltantes e que os dados se tratam de valores numéricos, nós utilizamos a função MinMaxScaler para normalizar os dados no intervalo [0, 1]."
      ]
    },
    {
      "cell_type": "code",
      "metadata": {
        "id": "5lqXZgqMGTfm",
        "colab": {
          "base_uri": "https://localhost:8080/",
          "height": 821
        },
        "outputId": "7e4ad4c4-e928-4cd1-c961-403be1329bf3"
      },
      "source": [
        "scaler = MinMaxScaler()\n",
        "scaler.fit(train_df)\n",
        "train_df = pd.DataFrame( scaler.transform(train_df), columns=train_df.columns )\n",
        "test_df = pd.DataFrame( scaler.transform(test_df), columns=test_df.columns )\n",
        "display(train_df)\n",
        "display(test_df)"
      ],
      "execution_count": null,
      "outputs": [
        {
          "output_type": "display_data",
          "data": {
            "text/html": [
              "<div>\n",
              "<style scoped>\n",
              "    .dataframe tbody tr th:only-of-type {\n",
              "        vertical-align: middle;\n",
              "    }\n",
              "\n",
              "    .dataframe tbody tr th {\n",
              "        vertical-align: top;\n",
              "    }\n",
              "\n",
              "    .dataframe thead th {\n",
              "        text-align: right;\n",
              "    }\n",
              "</style>\n",
              "<table border=\"1\" class=\"dataframe\">\n",
              "  <thead>\n",
              "    <tr style=\"text-align: right;\">\n",
              "      <th></th>\n",
              "      <th>area</th>\n",
              "      <th>perimetro</th>\n",
              "      <th>maior-eixo</th>\n",
              "      <th>menor-eixo</th>\n",
              "      <th>arredondamento</th>\n",
              "      <th>area-convexa</th>\n",
              "      <th>extensao</th>\n",
              "    </tr>\n",
              "  </thead>\n",
              "  <tbody>\n",
              "    <tr>\n",
              "      <th>0</th>\n",
              "      <td>0.435986</td>\n",
              "      <td>0.447339</td>\n",
              "      <td>0.357791</td>\n",
              "      <td>0.538194</td>\n",
              "      <td>0.488355</td>\n",
              "      <td>0.458814</td>\n",
              "      <td>0.842061</td>\n",
              "    </tr>\n",
              "    <tr>\n",
              "      <th>1</th>\n",
              "      <td>0.499555</td>\n",
              "      <td>0.480001</td>\n",
              "      <td>0.446076</td>\n",
              "      <td>0.546509</td>\n",
              "      <td>0.557636</td>\n",
              "      <td>0.491414</td>\n",
              "      <td>0.252527</td>\n",
              "    </tr>\n",
              "    <tr>\n",
              "      <th>2</th>\n",
              "      <td>0.490657</td>\n",
              "      <td>0.567803</td>\n",
              "      <td>0.604641</td>\n",
              "      <td>0.384302</td>\n",
              "      <td>0.789118</td>\n",
              "      <td>0.485786</td>\n",
              "      <td>0.542945</td>\n",
              "    </tr>\n",
              "    <tr>\n",
              "      <th>3</th>\n",
              "      <td>0.212556</td>\n",
              "      <td>0.184233</td>\n",
              "      <td>0.192673</td>\n",
              "      <td>0.303663</td>\n",
              "      <td>0.566017</td>\n",
              "      <td>0.210731</td>\n",
              "      <td>0.267181</td>\n",
              "    </tr>\n",
              "    <tr>\n",
              "      <th>4</th>\n",
              "      <td>0.692437</td>\n",
              "      <td>0.727970</td>\n",
              "      <td>0.673812</td>\n",
              "      <td>0.631795</td>\n",
              "      <td>0.654189</td>\n",
              "      <td>0.703211</td>\n",
              "      <td>0.530407</td>\n",
              "    </tr>\n",
              "    <tr>\n",
              "      <th>...</th>\n",
              "      <td>...</td>\n",
              "      <td>...</td>\n",
              "      <td>...</td>\n",
              "      <td>...</td>\n",
              "      <td>...</td>\n",
              "      <td>...</td>\n",
              "      <td>...</td>\n",
              "    </tr>\n",
              "    <tr>\n",
              "      <th>1138</th>\n",
              "      <td>0.600989</td>\n",
              "      <td>0.621712</td>\n",
              "      <td>0.638196</td>\n",
              "      <td>0.518558</td>\n",
              "      <td>0.714537</td>\n",
              "      <td>0.591055</td>\n",
              "      <td>0.929696</td>\n",
              "    </tr>\n",
              "    <tr>\n",
              "      <th>1139</th>\n",
              "      <td>0.800099</td>\n",
              "      <td>0.856156</td>\n",
              "      <td>0.850398</td>\n",
              "      <td>0.627009</td>\n",
              "      <td>0.759042</td>\n",
              "      <td>0.798001</td>\n",
              "      <td>0.845858</td>\n",
              "    </tr>\n",
              "    <tr>\n",
              "      <th>1140</th>\n",
              "      <td>0.560949</td>\n",
              "      <td>0.551184</td>\n",
              "      <td>0.532284</td>\n",
              "      <td>0.556247</td>\n",
              "      <td>0.615827</td>\n",
              "      <td>0.554963</td>\n",
              "      <td>0.204819</td>\n",
              "    </tr>\n",
              "    <tr>\n",
              "      <th>1141</th>\n",
              "      <td>0.482748</td>\n",
              "      <td>0.416154</td>\n",
              "      <td>0.412678</td>\n",
              "      <td>0.541508</td>\n",
              "      <td>0.534196</td>\n",
              "      <td>0.471233</td>\n",
              "      <td>0.743365</td>\n",
              "    </tr>\n",
              "    <tr>\n",
              "      <th>1142</th>\n",
              "      <td>0.337716</td>\n",
              "      <td>0.275673</td>\n",
              "      <td>0.180406</td>\n",
              "      <td>0.549465</td>\n",
              "      <td>0.282909</td>\n",
              "      <td>0.347143</td>\n",
              "      <td>0.372029</td>\n",
              "    </tr>\n",
              "  </tbody>\n",
              "</table>\n",
              "<p>1143 rows × 7 columns</p>\n",
              "</div>"
            ],
            "text/plain": [
              "          area  perimetro  maior-eixo  ...  arredondamento  area-convexa  extensao\n",
              "0     0.435986   0.447339    0.357791  ...        0.488355      0.458814  0.842061\n",
              "1     0.499555   0.480001    0.446076  ...        0.557636      0.491414  0.252527\n",
              "2     0.490657   0.567803    0.604641  ...        0.789118      0.485786  0.542945\n",
              "3     0.212556   0.184233    0.192673  ...        0.566017      0.210731  0.267181\n",
              "4     0.692437   0.727970    0.673812  ...        0.654189      0.703211  0.530407\n",
              "...        ...        ...         ...  ...             ...           ...       ...\n",
              "1138  0.600989   0.621712    0.638196  ...        0.714537      0.591055  0.929696\n",
              "1139  0.800099   0.856156    0.850398  ...        0.759042      0.798001  0.845858\n",
              "1140  0.560949   0.551184    0.532284  ...        0.615827      0.554963  0.204819\n",
              "1141  0.482748   0.416154    0.412678  ...        0.534196      0.471233  0.743365\n",
              "1142  0.337716   0.275673    0.180406  ...        0.282909      0.347143  0.372029\n",
              "\n",
              "[1143 rows x 7 columns]"
            ]
          },
          "metadata": {
            "tags": []
          }
        },
        {
          "output_type": "display_data",
          "data": {
            "text/html": [
              "<div>\n",
              "<style scoped>\n",
              "    .dataframe tbody tr th:only-of-type {\n",
              "        vertical-align: middle;\n",
              "    }\n",
              "\n",
              "    .dataframe tbody tr th {\n",
              "        vertical-align: top;\n",
              "    }\n",
              "\n",
              "    .dataframe thead th {\n",
              "        text-align: right;\n",
              "    }\n",
              "</style>\n",
              "<table border=\"1\" class=\"dataframe\">\n",
              "  <thead>\n",
              "    <tr style=\"text-align: right;\">\n",
              "      <th></th>\n",
              "      <th>area</th>\n",
              "      <th>perimetro</th>\n",
              "      <th>maior-eixo</th>\n",
              "      <th>menor-eixo</th>\n",
              "      <th>arredondamento</th>\n",
              "      <th>area-convexa</th>\n",
              "      <th>extensao</th>\n",
              "    </tr>\n",
              "  </thead>\n",
              "  <tbody>\n",
              "    <tr>\n",
              "      <th>0</th>\n",
              "      <td>0.605635</td>\n",
              "      <td>0.601680</td>\n",
              "      <td>0.565926</td>\n",
              "      <td>0.590870</td>\n",
              "      <td>0.612175</td>\n",
              "      <td>0.604153</td>\n",
              "      <td>0.643201</td>\n",
              "    </tr>\n",
              "    <tr>\n",
              "      <th>1</th>\n",
              "      <td>0.578052</td>\n",
              "      <td>0.578307</td>\n",
              "      <td>0.503333</td>\n",
              "      <td>0.630809</td>\n",
              "      <td>0.530421</td>\n",
              "      <td>0.588144</td>\n",
              "      <td>0.844966</td>\n",
              "    </tr>\n",
              "    <tr>\n",
              "      <th>2</th>\n",
              "      <td>0.642610</td>\n",
              "      <td>0.694770</td>\n",
              "      <td>0.644991</td>\n",
              "      <td>0.590560</td>\n",
              "      <td>0.666215</td>\n",
              "      <td>0.655574</td>\n",
              "      <td>0.149665</td>\n",
              "    </tr>\n",
              "    <tr>\n",
              "      <th>3</th>\n",
              "      <td>0.867523</td>\n",
              "      <td>0.818956</td>\n",
              "      <td>0.646810</td>\n",
              "      <td>0.905163</td>\n",
              "      <td>0.410733</td>\n",
              "      <td>0.882507</td>\n",
              "      <td>0.583147</td>\n",
              "    </tr>\n",
              "    <tr>\n",
              "      <th>4</th>\n",
              "      <td>0.948295</td>\n",
              "      <td>0.962828</td>\n",
              "      <td>0.921641</td>\n",
              "      <td>0.748840</td>\n",
              "      <td>0.718975</td>\n",
              "      <td>0.945280</td>\n",
              "      <td>0.605915</td>\n",
              "    </tr>\n",
              "    <tr>\n",
              "      <th>...</th>\n",
              "      <td>...</td>\n",
              "      <td>...</td>\n",
              "      <td>...</td>\n",
              "      <td>...</td>\n",
              "      <td>...</td>\n",
              "      <td>...</td>\n",
              "      <td>...</td>\n",
              "    </tr>\n",
              "    <tr>\n",
              "      <th>425</th>\n",
              "      <td>0.278596</td>\n",
              "      <td>0.230907</td>\n",
              "      <td>0.190477</td>\n",
              "      <td>0.433547</td>\n",
              "      <td>0.428023</td>\n",
              "      <td>0.279228</td>\n",
              "      <td>0.514446</td>\n",
              "    </tr>\n",
              "    <tr>\n",
              "      <th>426</th>\n",
              "      <td>0.463866</td>\n",
              "      <td>0.478115</td>\n",
              "      <td>0.376309</td>\n",
              "      <td>0.563595</td>\n",
              "      <td>0.481047</td>\n",
              "      <td>0.475017</td>\n",
              "      <td>0.623372</td>\n",
              "    </tr>\n",
              "    <tr>\n",
              "      <th>427</th>\n",
              "      <td>0.326940</td>\n",
              "      <td>0.336073</td>\n",
              "      <td>0.325904</td>\n",
              "      <td>0.378568</td>\n",
              "      <td>0.609739</td>\n",
              "      <td>0.323178</td>\n",
              "      <td>0.242431</td>\n",
              "    </tr>\n",
              "    <tr>\n",
              "      <th>428</th>\n",
              "      <td>0.226891</td>\n",
              "      <td>0.190182</td>\n",
              "      <td>0.188030</td>\n",
              "      <td>0.337183</td>\n",
              "      <td>0.527756</td>\n",
              "      <td>0.229747</td>\n",
              "      <td>0.505547</td>\n",
              "    </tr>\n",
              "    <tr>\n",
              "      <th>429</th>\n",
              "      <td>0.485319</td>\n",
              "      <td>0.431279</td>\n",
              "      <td>0.335183</td>\n",
              "      <td>0.626806</td>\n",
              "      <td>0.376398</td>\n",
              "      <td>0.479189</td>\n",
              "      <td>0.881671</td>\n",
              "    </tr>\n",
              "  </tbody>\n",
              "</table>\n",
              "<p>430 rows × 7 columns</p>\n",
              "</div>"
            ],
            "text/plain": [
              "         area  perimetro  maior-eixo  ...  arredondamento  area-convexa  extensao\n",
              "0    0.605635   0.601680    0.565926  ...        0.612175      0.604153  0.643201\n",
              "1    0.578052   0.578307    0.503333  ...        0.530421      0.588144  0.844966\n",
              "2    0.642610   0.694770    0.644991  ...        0.666215      0.655574  0.149665\n",
              "3    0.867523   0.818956    0.646810  ...        0.410733      0.882507  0.583147\n",
              "4    0.948295   0.962828    0.921641  ...        0.718975      0.945280  0.605915\n",
              "..        ...        ...         ...  ...             ...           ...       ...\n",
              "425  0.278596   0.230907    0.190477  ...        0.428023      0.279228  0.514446\n",
              "426  0.463866   0.478115    0.376309  ...        0.481047      0.475017  0.623372\n",
              "427  0.326940   0.336073    0.325904  ...        0.609739      0.323178  0.242431\n",
              "428  0.226891   0.190182    0.188030  ...        0.527756      0.229747  0.505547\n",
              "429  0.485319   0.431279    0.335183  ...        0.376398      0.479189  0.881671\n",
              "\n",
              "[430 rows x 7 columns]"
            ]
          },
          "metadata": {
            "tags": []
          }
        }
      ]
    },
    {
      "cell_type": "markdown",
      "metadata": {
        "id": "47AQHobxMEWQ"
      },
      "source": [
        "# Checando se existem valores duplicados"
      ]
    },
    {
      "cell_type": "code",
      "metadata": {
        "id": "OtN4fbssMJpv",
        "colab": {
          "base_uri": "https://localhost:8080/",
          "height": 419
        },
        "outputId": "23456538-390f-4185-cd28-9ac0e7c2ee8a"
      },
      "source": [
        "display(train_df.drop_duplicates(keep=False).sort_values('area'))"
      ],
      "execution_count": null,
      "outputs": [
        {
          "output_type": "display_data",
          "data": {
            "text/html": [
              "<div>\n",
              "<style scoped>\n",
              "    .dataframe tbody tr th:only-of-type {\n",
              "        vertical-align: middle;\n",
              "    }\n",
              "\n",
              "    .dataframe tbody tr th {\n",
              "        vertical-align: top;\n",
              "    }\n",
              "\n",
              "    .dataframe thead th {\n",
              "        text-align: right;\n",
              "    }\n",
              "</style>\n",
              "<table border=\"1\" class=\"dataframe\">\n",
              "  <thead>\n",
              "    <tr style=\"text-align: right;\">\n",
              "      <th></th>\n",
              "      <th>area</th>\n",
              "      <th>perimetro</th>\n",
              "      <th>maior-eixo</th>\n",
              "      <th>menor-eixo</th>\n",
              "      <th>arredondamento</th>\n",
              "      <th>area-convexa</th>\n",
              "      <th>extensao</th>\n",
              "    </tr>\n",
              "  </thead>\n",
              "  <tbody>\n",
              "    <tr>\n",
              "      <th>998</th>\n",
              "      <td>0.000000</td>\n",
              "      <td>0.019132</td>\n",
              "      <td>0.137918</td>\n",
              "      <td>0.004983</td>\n",
              "      <td>0.797790</td>\n",
              "      <td>0.000000</td>\n",
              "      <td>0.814157</td>\n",
              "    </tr>\n",
              "    <tr>\n",
              "      <th>18</th>\n",
              "      <td>0.048937</td>\n",
              "      <td>0.000000</td>\n",
              "      <td>0.025775</td>\n",
              "      <td>0.163444</td>\n",
              "      <td>0.551233</td>\n",
              "      <td>0.054720</td>\n",
              "      <td>0.227603</td>\n",
              "    </tr>\n",
              "    <tr>\n",
              "      <th>818</th>\n",
              "      <td>0.070489</td>\n",
              "      <td>0.105440</td>\n",
              "      <td>0.250657</td>\n",
              "      <td>0.000000</td>\n",
              "      <td>0.869527</td>\n",
              "      <td>0.065004</td>\n",
              "      <td>0.705613</td>\n",
              "    </tr>\n",
              "    <tr>\n",
              "      <th>179</th>\n",
              "      <td>0.076223</td>\n",
              "      <td>0.022075</td>\n",
              "      <td>0.037200</td>\n",
              "      <td>0.202836</td>\n",
              "      <td>0.519292</td>\n",
              "      <td>0.074901</td>\n",
              "      <td>0.285021</td>\n",
              "    </tr>\n",
              "    <tr>\n",
              "      <th>227</th>\n",
              "      <td>0.086604</td>\n",
              "      <td>0.077159</td>\n",
              "      <td>0.156822</td>\n",
              "      <td>0.103809</td>\n",
              "      <td>0.725163</td>\n",
              "      <td>0.083244</td>\n",
              "      <td>0.808577</td>\n",
              "    </tr>\n",
              "    <tr>\n",
              "      <th>...</th>\n",
              "      <td>...</td>\n",
              "      <td>...</td>\n",
              "      <td>...</td>\n",
              "      <td>...</td>\n",
              "      <td>...</td>\n",
              "      <td>...</td>\n",
              "      <td>...</td>\n",
              "    </tr>\n",
              "    <tr>\n",
              "      <th>1104</th>\n",
              "      <td>0.939397</td>\n",
              "      <td>0.975642</td>\n",
              "      <td>1.000000</td>\n",
              "      <td>0.670809</td>\n",
              "      <td>0.804151</td>\n",
              "      <td>0.922771</td>\n",
              "      <td>0.976657</td>\n",
              "    </tr>\n",
              "    <tr>\n",
              "      <th>261</th>\n",
              "      <td>0.941176</td>\n",
              "      <td>0.947333</td>\n",
              "      <td>0.796586</td>\n",
              "      <td>0.862247</td>\n",
              "      <td>0.564121</td>\n",
              "      <td>0.953721</td>\n",
              "      <td>0.372829</td>\n",
              "    </tr>\n",
              "    <tr>\n",
              "      <th>497</th>\n",
              "      <td>0.948295</td>\n",
              "      <td>0.962828</td>\n",
              "      <td>0.921641</td>\n",
              "      <td>0.748840</td>\n",
              "      <td>0.718975</td>\n",
              "      <td>0.945280</td>\n",
              "      <td>0.605915</td>\n",
              "    </tr>\n",
              "    <tr>\n",
              "      <th>1031</th>\n",
              "      <td>0.962037</td>\n",
              "      <td>0.880644</td>\n",
              "      <td>0.803818</td>\n",
              "      <td>0.866879</td>\n",
              "      <td>0.565653</td>\n",
              "      <td>0.950131</td>\n",
              "      <td>0.818620</td>\n",
              "    </tr>\n",
              "    <tr>\n",
              "      <th>542</th>\n",
              "      <td>1.000000</td>\n",
              "      <td>0.879536</td>\n",
              "      <td>0.719191</td>\n",
              "      <td>1.000000</td>\n",
              "      <td>0.391119</td>\n",
              "      <td>1.000000</td>\n",
              "      <td>0.486961</td>\n",
              "    </tr>\n",
              "  </tbody>\n",
              "</table>\n",
              "<p>1143 rows × 7 columns</p>\n",
              "</div>"
            ],
            "text/plain": [
              "          area  perimetro  maior-eixo  ...  arredondamento  area-convexa  extensao\n",
              "998   0.000000   0.019132    0.137918  ...        0.797790      0.000000  0.814157\n",
              "18    0.048937   0.000000    0.025775  ...        0.551233      0.054720  0.227603\n",
              "818   0.070489   0.105440    0.250657  ...        0.869527      0.065004  0.705613\n",
              "179   0.076223   0.022075    0.037200  ...        0.519292      0.074901  0.285021\n",
              "227   0.086604   0.077159    0.156822  ...        0.725163      0.083244  0.808577\n",
              "...        ...        ...         ...  ...             ...           ...       ...\n",
              "1104  0.939397   0.975642    1.000000  ...        0.804151      0.922771  0.976657\n",
              "261   0.941176   0.947333    0.796586  ...        0.564121      0.953721  0.372829\n",
              "497   0.948295   0.962828    0.921641  ...        0.718975      0.945280  0.605915\n",
              "1031  0.962037   0.880644    0.803818  ...        0.565653      0.950131  0.818620\n",
              "542   1.000000   0.879536    0.719191  ...        0.391119      1.000000  0.486961\n",
              "\n",
              "[1143 rows x 7 columns]"
            ]
          },
          "metadata": {
            "tags": []
          }
        }
      ]
    },
    {
      "cell_type": "markdown",
      "metadata": {
        "id": "OSRrYegUTjL_"
      },
      "source": [
        "# Checando correlação dos atributos\n",
        "\n",
        "https://stackoverflow.com/questions/17778394/list-highest-correlation-pairs-from-a-large-correlation-matrix-in-pandas\n",
        "\n",
        "Após a normalização dos dados nós checamos a correlação entre os atributos, e com isso percebemos que existem 6 pares de colunas com alta correlação, e 3 com correlação moderada.\n"
      ]
    },
    {
      "cell_type": "code",
      "metadata": {
        "id": "GQOhVbMZTXrl",
        "colab": {
          "base_uri": "https://localhost:8080/",
          "height": 266
        },
        "outputId": "e7e70ab3-f868-48d4-a2c9-daafe625f20d"
      },
      "source": [
        "display( train_df.corr() )"
      ],
      "execution_count": null,
      "outputs": [
        {
          "output_type": "display_data",
          "data": {
            "text/html": [
              "<div>\n",
              "<style scoped>\n",
              "    .dataframe tbody tr th:only-of-type {\n",
              "        vertical-align: middle;\n",
              "    }\n",
              "\n",
              "    .dataframe tbody tr th {\n",
              "        vertical-align: top;\n",
              "    }\n",
              "\n",
              "    .dataframe thead th {\n",
              "        text-align: right;\n",
              "    }\n",
              "</style>\n",
              "<table border=\"1\" class=\"dataframe\">\n",
              "  <thead>\n",
              "    <tr style=\"text-align: right;\">\n",
              "      <th></th>\n",
              "      <th>area</th>\n",
              "      <th>perimetro</th>\n",
              "      <th>maior-eixo</th>\n",
              "      <th>menor-eixo</th>\n",
              "      <th>arredondamento</th>\n",
              "      <th>area-convexa</th>\n",
              "      <th>extensao</th>\n",
              "    </tr>\n",
              "  </thead>\n",
              "  <tbody>\n",
              "    <tr>\n",
              "      <th>area</th>\n",
              "      <td>1.000000</td>\n",
              "      <td>0.970613</td>\n",
              "      <td>0.912980</td>\n",
              "      <td>0.803938</td>\n",
              "      <td>0.369288</td>\n",
              "      <td>0.999031</td>\n",
              "      <td>-0.053897</td>\n",
              "    </tr>\n",
              "    <tr>\n",
              "      <th>perimetro</th>\n",
              "      <td>0.970613</td>\n",
              "      <td>1.000000</td>\n",
              "      <td>0.973655</td>\n",
              "      <td>0.662857</td>\n",
              "      <td>0.546696</td>\n",
              "      <td>0.973412</td>\n",
              "      <td>-0.115310</td>\n",
              "    </tr>\n",
              "    <tr>\n",
              "      <th>maior-eixo</th>\n",
              "      <td>0.912980</td>\n",
              "      <td>0.973655</td>\n",
              "      <td>1.000000</td>\n",
              "      <td>0.496488</td>\n",
              "      <td>0.707899</td>\n",
              "      <td>0.912665</td>\n",
              "      <td>-0.119862</td>\n",
              "    </tr>\n",
              "    <tr>\n",
              "      <th>menor-eixo</th>\n",
              "      <td>0.803938</td>\n",
              "      <td>0.662857</td>\n",
              "      <td>0.496488</td>\n",
              "      <td>1.000000</td>\n",
              "      <td>-0.248862</td>\n",
              "      <td>0.804249</td>\n",
              "      <td>0.052556</td>\n",
              "    </tr>\n",
              "    <tr>\n",
              "      <th>arredondamento</th>\n",
              "      <td>0.369288</td>\n",
              "      <td>0.546696</td>\n",
              "      <td>0.707899</td>\n",
              "      <td>-0.248862</td>\n",
              "      <td>1.000000</td>\n",
              "      <td>0.368489</td>\n",
              "      <td>-0.180108</td>\n",
              "    </tr>\n",
              "    <tr>\n",
              "      <th>area-convexa</th>\n",
              "      <td>0.999031</td>\n",
              "      <td>0.973412</td>\n",
              "      <td>0.912665</td>\n",
              "      <td>0.804249</td>\n",
              "      <td>0.368489</td>\n",
              "      <td>1.000000</td>\n",
              "      <td>-0.057856</td>\n",
              "    </tr>\n",
              "    <tr>\n",
              "      <th>extensao</th>\n",
              "      <td>-0.053897</td>\n",
              "      <td>-0.115310</td>\n",
              "      <td>-0.119862</td>\n",
              "      <td>0.052556</td>\n",
              "      <td>-0.180108</td>\n",
              "      <td>-0.057856</td>\n",
              "      <td>1.000000</td>\n",
              "    </tr>\n",
              "  </tbody>\n",
              "</table>\n",
              "</div>"
            ],
            "text/plain": [
              "                    area  perimetro  ...  area-convexa  extensao\n",
              "area            1.000000   0.970613  ...      0.999031 -0.053897\n",
              "perimetro       0.970613   1.000000  ...      0.973412 -0.115310\n",
              "maior-eixo      0.912980   0.973655  ...      0.912665 -0.119862\n",
              "menor-eixo      0.803938   0.662857  ...      0.804249  0.052556\n",
              "arredondamento  0.369288   0.546696  ...      0.368489 -0.180108\n",
              "area-convexa    0.999031   0.973412  ...      1.000000 -0.057856\n",
              "extensao       -0.053897  -0.115310  ...     -0.057856  1.000000\n",
              "\n",
              "[7 rows x 7 columns]"
            ]
          },
          "metadata": {
            "tags": []
          }
        }
      ]
    },
    {
      "cell_type": "code",
      "metadata": {
        "id": "XG9HdCT-UnBM",
        "colab": {
          "base_uri": "https://localhost:8080/"
        },
        "outputId": "a78cbff1-21b5-4172-a4c5-0f13a99af7a4"
      },
      "source": [
        "def get_redundant_pairs(df):\n",
        "    '''Get diagonal and lower triangular pairs of correlation matrix'''\n",
        "    pairs_to_drop = set()\n",
        "    cols = df.columns\n",
        "    for i in range(0, df.shape[1]):\n",
        "        for j in range(0, i+1):\n",
        "            pairs_to_drop.add((cols[i], cols[j]))\n",
        "    return pairs_to_drop\n",
        "\n",
        "def get_top_abs_correlations(df, n=5):\n",
        "    au_corr = df.corr().abs().unstack()\n",
        "    labels_to_drop = get_redundant_pairs(df)\n",
        "    au_corr = au_corr.drop(labels=labels_to_drop).sort_values(ascending=False)\n",
        "    return au_corr[0:n]\n",
        "\n",
        "print(\"Top Absolute Correlations\")\n",
        "print(get_top_abs_correlations(train_df, 10))"
      ],
      "execution_count": null,
      "outputs": [
        {
          "output_type": "stream",
          "text": [
            "Top Absolute Correlations\n",
            "area        area-convexa      0.999031\n",
            "perimetro   maior-eixo        0.973655\n",
            "            area-convexa      0.973412\n",
            "area        perimetro         0.970613\n",
            "            maior-eixo        0.912980\n",
            "maior-eixo  area-convexa      0.912665\n",
            "menor-eixo  area-convexa      0.804249\n",
            "area        menor-eixo        0.803938\n",
            "maior-eixo  arredondamento    0.707899\n",
            "perimetro   menor-eixo        0.662857\n",
            "dtype: float64\n"
          ],
          "name": "stdout"
        }
      ]
    },
    {
      "cell_type": "markdown",
      "metadata": {
        "id": "HK0uFAzBN110"
      },
      "source": [
        "# Principal Component Analysis (PCA)\n",
        "\n",
        "https://jakevdp.github.io/PythonDataScienceHandbook/05.09-principal-component-analysis.html\n",
        "\n",
        "Para tratar os atributos com alta relação nós utilizamos o método do Principal Component Analysis (PCA), conforme explicado no capítulo 5 do livro \"Python Data Science Handbook\", para reduzir a quantidade de atributos e remover as alta correlações.\n",
        "\n",
        "Inicialmente, nós plotamos a variância cumulativa explicada conforme demonstrado no livro, e através do gráfico percebemos que com 2 componentes conseguimos descrever quase 100% da variância dimensional. Portanto, nós aplicamos o PCA com n_components=2, e após a transformação nos checamos novamente a correlação entre os atributos para garantir que não houvesse grandes correlações."
      ]
    },
    {
      "cell_type": "code",
      "metadata": {
        "id": "wE5J8Ci-RdrO",
        "colab": {
          "base_uri": "https://localhost:8080/",
          "height": 329
        },
        "outputId": "fa378704-f6bc-4af2-feb5-5f9cebafd04c"
      },
      "source": [
        "pca = PCA().fit(train_df)\n",
        "plt.plot(np.cumsum(pca.explained_variance_ratio_))\n",
        "plt.xlabel('number of components')\n",
        "plt.ylabel('cumulative explained variance')\n",
        "plt.title(\"Cumulative explained variance ratio\")\n",
        "print(np.cumsum(pca.explained_variance_ratio_))"
      ],
      "execution_count": null,
      "outputs": [
        {
          "output_type": "stream",
          "text": [
            "[0.63705283 0.88413941 0.99753955 0.99902637 0.99971086 0.99994677\n",
            " 1.        ]\n"
          ],
          "name": "stdout"
        },
        {
          "output_type": "display_data",
          "data": {
            "image/png": "[encoded data removed]",
            "text/plain": [
              "<Figure size 432x288 with 1 Axes>"
            ]
          },
          "metadata": {
            "tags": [],
            "needs_background": "light"
          }
        }
      ]
    },
    {
      "cell_type": "code",
      "metadata": {
        "id": "YGRoTrwqKk2z",
        "colab": {
          "base_uri": "https://localhost:8080/",
          "height": 974
        },
        "outputId": "7136ab60-6213-4b30-84b1-f349a10607db"
      },
      "source": [
        "pca = PCA(n_components=2)\n",
        "train_df = pd.DataFrame( pca.fit_transform(train_df), columns=['Principal Component 1', 'Principal Component 2'])\n",
        "test_df = pd.DataFrame(pca.transform(test_df), columns=['Principal Component 1', 'Principal Component 2'])\n",
        "\n",
        "display( train_df )\n",
        "display( test_df )\n",
        "print(train_df.describe())\n"
      ],
      "execution_count": null,
      "outputs": [
        {
          "output_type": "display_data",
          "data": {
            "text/html": [
              "<div>\n",
              "<style scoped>\n",
              "    .dataframe tbody tr th:only-of-type {\n",
              "        vertical-align: middle;\n",
              "    }\n",
              "\n",
              "    .dataframe tbody tr th {\n",
              "        vertical-align: top;\n",
              "    }\n",
              "\n",
              "    .dataframe thead th {\n",
              "        text-align: right;\n",
              "    }\n",
              "</style>\n",
              "<table border=\"1\" class=\"dataframe\">\n",
              "  <thead>\n",
              "    <tr style=\"text-align: right;\">\n",
              "      <th></th>\n",
              "      <th>Principal Component 1</th>\n",
              "      <th>Principal Component 2</th>\n",
              "    </tr>\n",
              "  </thead>\n",
              "  <tbody>\n",
              "    <tr>\n",
              "      <th>0</th>\n",
              "      <td>-0.126574</td>\n",
              "      <td>0.363977</td>\n",
              "    </tr>\n",
              "    <tr>\n",
              "      <th>1</th>\n",
              "      <td>0.047653</td>\n",
              "      <td>-0.209409</td>\n",
              "    </tr>\n",
              "    <tr>\n",
              "      <th>2</th>\n",
              "      <td>0.148972</td>\n",
              "      <td>0.021900</td>\n",
              "    </tr>\n",
              "    <tr>\n",
              "      <th>3</th>\n",
              "      <td>-0.534392</td>\n",
              "      <td>-0.285101</td>\n",
              "    </tr>\n",
              "    <tr>\n",
              "      <th>4</th>\n",
              "      <td>0.479353</td>\n",
              "      <td>0.100947</td>\n",
              "    </tr>\n",
              "    <tr>\n",
              "      <th>...</th>\n",
              "      <td>...</td>\n",
              "      <td>...</td>\n",
              "    </tr>\n",
              "    <tr>\n",
              "      <th>1138</th>\n",
              "      <td>0.266693</td>\n",
              "      <td>0.446474</td>\n",
              "    </tr>\n",
              "    <tr>\n",
              "      <th>1139</th>\n",
              "      <td>0.712835</td>\n",
              "      <td>0.414187</td>\n",
              "    </tr>\n",
              "    <tr>\n",
              "      <th>1140</th>\n",
              "      <td>0.200645</td>\n",
              "      <td>-0.249808</td>\n",
              "    </tr>\n",
              "    <tr>\n",
              "      <th>1141</th>\n",
              "      <td>-0.070213</td>\n",
              "      <td>0.266338</td>\n",
              "    </tr>\n",
              "    <tr>\n",
              "      <th>1142</th>\n",
              "      <td>-0.390801</td>\n",
              "      <td>-0.087672</td>\n",
              "    </tr>\n",
              "  </tbody>\n",
              "</table>\n",
              "<p>1143 rows × 2 columns</p>\n",
              "</div>"
            ],
            "text/plain": [
              "      Principal Component 1  Principal Component 2\n",
              "0                 -0.126574               0.363977\n",
              "1                  0.047653              -0.209409\n",
              "2                  0.148972               0.021900\n",
              "3                 -0.534392              -0.285101\n",
              "4                  0.479353               0.100947\n",
              "...                     ...                    ...\n",
              "1138               0.266693               0.446474\n",
              "1139               0.712835               0.414187\n",
              "1140               0.200645              -0.249808\n",
              "1141              -0.070213               0.266338\n",
              "1142              -0.390801              -0.087672\n",
              "\n",
              "[1143 rows x 2 columns]"
            ]
          },
          "metadata": {
            "tags": []
          }
        },
        {
          "output_type": "display_data",
          "data": {
            "text/html": [
              "<div>\n",
              "<style scoped>\n",
              "    .dataframe tbody tr th:only-of-type {\n",
              "        vertical-align: middle;\n",
              "    }\n",
              "\n",
              "    .dataframe tbody tr th {\n",
              "        vertical-align: top;\n",
              "    }\n",
              "\n",
              "    .dataframe thead th {\n",
              "        text-align: right;\n",
              "    }\n",
              "</style>\n",
              "<table border=\"1\" class=\"dataframe\">\n",
              "  <thead>\n",
              "    <tr style=\"text-align: right;\">\n",
              "      <th></th>\n",
              "      <th>Principal Component 1</th>\n",
              "      <th>Principal Component 2</th>\n",
              "    </tr>\n",
              "  </thead>\n",
              "  <tbody>\n",
              "    <tr>\n",
              "      <th>0</th>\n",
              "      <td>0.250521</td>\n",
              "      <td>0.191754</td>\n",
              "    </tr>\n",
              "    <tr>\n",
              "      <th>1</th>\n",
              "      <td>0.161573</td>\n",
              "      <td>0.400252</td>\n",
              "    </tr>\n",
              "    <tr>\n",
              "      <th>2</th>\n",
              "      <td>0.434069</td>\n",
              "      <td>-0.286305</td>\n",
              "    </tr>\n",
              "    <tr>\n",
              "      <th>3</th>\n",
              "      <td>0.675293</td>\n",
              "      <td>0.254149</td>\n",
              "    </tr>\n",
              "    <tr>\n",
              "      <th>4</th>\n",
              "      <td>0.974782</td>\n",
              "      <td>0.230172</td>\n",
              "    </tr>\n",
              "    <tr>\n",
              "      <th>...</th>\n",
              "      <td>...</td>\n",
              "      <td>...</td>\n",
              "    </tr>\n",
              "    <tr>\n",
              "      <th>425</th>\n",
              "      <td>-0.474528</td>\n",
              "      <td>0.004256</td>\n",
              "    </tr>\n",
              "    <tr>\n",
              "      <th>426</th>\n",
              "      <td>-0.057383</td>\n",
              "      <td>0.159906</td>\n",
              "    </tr>\n",
              "    <tr>\n",
              "      <th>427</th>\n",
              "      <td>-0.262125</td>\n",
              "      <td>-0.281590</td>\n",
              "    </tr>\n",
              "    <tr>\n",
              "      <th>428</th>\n",
              "      <td>-0.541653</td>\n",
              "      <td>-0.040304</td>\n",
              "    </tr>\n",
              "    <tr>\n",
              "      <th>429</th>\n",
              "      <td>-0.122244</td>\n",
              "      <td>0.434846</td>\n",
              "    </tr>\n",
              "  </tbody>\n",
              "</table>\n",
              "<p>430 rows × 2 columns</p>\n",
              "</div>"
            ],
            "text/plain": [
              "     Principal Component 1  Principal Component 2\n",
              "0                 0.250521               0.191754\n",
              "1                 0.161573               0.400252\n",
              "2                 0.434069              -0.286305\n",
              "3                 0.675293               0.254149\n",
              "4                 0.974782               0.230172\n",
              "..                     ...                    ...\n",
              "425              -0.474528               0.004256\n",
              "426              -0.057383               0.159906\n",
              "427              -0.262125              -0.281590\n",
              "428              -0.541653              -0.040304\n",
              "429              -0.122244               0.434846\n",
              "\n",
              "[430 rows x 2 columns]"
            ]
          },
          "metadata": {
            "tags": []
          }
        },
        {
          "output_type": "stream",
          "text": [
            "       Principal Component 1  Principal Component 2\n",
            "count           1.143000e+03           1.143000e+03\n",
            "mean           -1.000463e-17          -8.740699e-17\n",
            "std             3.922401e-01           2.442805e-01\n",
            "min            -9.038674e-01          -5.554005e-01\n",
            "25%            -3.187050e-01          -1.963534e-01\n",
            "50%            -6.093589e-02          -4.183159e-02\n",
            "75%             3.334458e-01           2.038580e-01\n",
            "max             9.903698e-01           6.023559e-01\n"
          ],
          "name": "stdout"
        }
      ]
    },
    {
      "cell_type": "code",
      "metadata": {
        "id": "R7KQXY09QSsY",
        "colab": {
          "base_uri": "https://localhost:8080/",
          "height": 111
        },
        "outputId": "49bec04a-4776-47a9-9685-b71d249bd890"
      },
      "source": [
        "display( train_df.corr() )"
      ],
      "execution_count": null,
      "outputs": [
        {
          "output_type": "display_data",
          "data": {
            "text/html": [
              "<div>\n",
              "<style scoped>\n",
              "    .dataframe tbody tr th:only-of-type {\n",
              "        vertical-align: middle;\n",
              "    }\n",
              "\n",
              "    .dataframe tbody tr th {\n",
              "        vertical-align: top;\n",
              "    }\n",
              "\n",
              "    .dataframe thead th {\n",
              "        text-align: right;\n",
              "    }\n",
              "</style>\n",
              "<table border=\"1\" class=\"dataframe\">\n",
              "  <thead>\n",
              "    <tr style=\"text-align: right;\">\n",
              "      <th></th>\n",
              "      <th>Principal Component 1</th>\n",
              "      <th>Principal Component 2</th>\n",
              "    </tr>\n",
              "  </thead>\n",
              "  <tbody>\n",
              "    <tr>\n",
              "      <th>Principal Component 1</th>\n",
              "      <td>1.000000e+00</td>\n",
              "      <td>-1.376078e-17</td>\n",
              "    </tr>\n",
              "    <tr>\n",
              "      <th>Principal Component 2</th>\n",
              "      <td>-1.376078e-17</td>\n",
              "      <td>1.000000e+00</td>\n",
              "    </tr>\n",
              "  </tbody>\n",
              "</table>\n",
              "</div>"
            ],
            "text/plain": [
              "                       Principal Component 1  Principal Component 2\n",
              "Principal Component 1           1.000000e+00          -1.376078e-17\n",
              "Principal Component 2          -1.376078e-17           1.000000e+00"
            ]
          },
          "metadata": {
            "tags": []
          }
        }
      ]
    },
    {
      "cell_type": "code",
      "metadata": {
        "id": "wdAAtJnbVg5A",
        "colab": {
          "base_uri": "https://localhost:8080/",
          "height": 282
        },
        "outputId": "8e074be3-43e3-4cb7-b7d9-b304a141c500"
      },
      "source": [
        "print(Counter(y_train['classe']))\n",
        "plt.scatter( train_df.iloc[:, 0], train_df.iloc[:, 1], marker=\"o\", c=y_train['classe'], s=25, edgecolor=\"k\" )\n",
        "plt.show()"
      ],
      "execution_count": null,
      "outputs": [
        {
          "output_type": "stream",
          "text": [
            "Counter({1: 645, 0: 498})\n"
          ],
          "name": "stdout"
        },
        {
          "output_type": "display_data",
          "data": {
            "image/png": "[encoded data removed]",
            "text/plain": [
              "<Figure size 432x288 with 1 Axes>"
            ]
          },
          "metadata": {
            "tags": [],
            "needs_background": "light"
          }
        }
      ]
    },
    {
      "cell_type": "markdown",
      "metadata": {
        "id": "CIr6nlzRPIZn"
      },
      "source": [
        "# Detecção e remoção de outliers (DBSCAN e Optics)\n",
        "\n",
        "https://towardsdatascience.com/a-brief-overview-of-outlier-detection-techniques-1e0b2c19e561\n",
        "\n",
        "Em seguida, nós utilizamos os algoritmos de agrupamento DBSCAN e Optics para detectarmos outliers presentes nos dados. Primeiro utilizamos o Optics para auxiliar na definição dos parâmetros do DBSCAN, que foi o algoritmo responsável por detectar os outliers. Com os parâmetros utilizamos os algoritmos obtiveram 16 outliers, que foram removidos do dataset."
      ]
    },
    {
      "cell_type": "code",
      "metadata": {
        "id": "XV2mA48cyOX3",
        "colab": {
          "base_uri": "https://localhost:8080/",
          "height": 547
        },
        "outputId": "ef6e317f-d13c-42d9-c236-897d7e359631"
      },
      "source": [
        "opticModel = OPTICS(min_samples=10, max_eps=0.15, xi=0.15)\n",
        "y_optic = opticModel.fit_predict(train_df)\n",
        "\n",
        "print('Optic Model')\n",
        "print('Number of clusters: {}'.format(set(opticModel.labels_)))\n",
        "space = np.arange(len(train_df))\n",
        "reachability = opticModel.reachability_[opticModel.ordering_]\n",
        "labels = opticModel.labels_[opticModel.ordering_]\n",
        "colors = [ \"b.\", \"y.\", \"r.\", \"g.\", \"c.\" ]\n",
        "for cclass, color in zip( range(0, 5), colors ):\n",
        "  Xk = space[ labels==cclass ]\n",
        "  Rk = reachability[ labels==cclass ]\n",
        "  plt.plot(Xk, Rk, color, alpha=0.3)\n",
        "\n",
        "plt.plot( space[ labels == -1 ], reachability[ labels==-1 ], \"k.\", alpha=0.3 )\n",
        "plt.hlines(y=0.08, colors='purple', xmin=0.0, xmax=1100)\n",
        "plt.show()\n",
        "\n",
        "plt.scatter( train_df.iloc[:, 0], train_df.iloc[:, 1], marker=\"o\", c=y_optic, s=25, edgecolor=\"k\" )\n",
        "plt.show()"
      ],
      "execution_count": null,
      "outputs": [
        {
          "output_type": "stream",
          "text": [
            "Optic Model\n",
            "Number of clusters: {0, 1, -1}\n"
          ],
          "name": "stdout"
        },
        {
          "output_type": "display_data",
          "data": {
            "image/png": "[encoded data removed]",
            "text/plain": [
              "<Figure size 432x288 with 1 Axes>"
            ]
          },
          "metadata": {
            "tags": [],
            "needs_background": "light"
          }
        },
        {
          "output_type": "display_data",
          "data": {
            "image/png": "[encoded data removed]",
            "text/plain": [
              "<Figure size 432x288 with 1 Axes>"
            ]
          },
          "metadata": {
            "tags": [],
            "needs_background": "light"
          }
        }
      ]
    },
    {
      "cell_type": "code",
      "metadata": {
        "id": "jUV2kj1NQly8",
        "colab": {
          "base_uri": "https://localhost:8080/",
          "height": 1000
        },
        "outputId": "d80c9742-1fcc-4d0e-f308-56625b9e45c0"
      },
      "source": [
        "dbscanModel = DBSCAN(eps=0.08, min_samples=5, metric='euclidean')\n",
        "clustering = dbscanModel.fit(train_df)\n",
        "y_dbscan = dbscanModel.fit_predict(train_df)\n",
        "\n",
        "train_df['outliers'] = clustering.labels_ \n",
        "y_train['outliers'] = clustering.labels_\n",
        "print( \"Number of outliers: {}\".format( np.count_nonzero(np.array(clustering.labels_), -1)) )\n",
        "display(train_df)\n",
        "display(y_train)\n",
        "plt.scatter( train_df.iloc[:, 0], train_df.iloc[:, 1], marker=\"o\", c=y_dbscan, s=25, edgecolor=\"k\" )\n",
        "plt.show()"
      ],
      "execution_count": null,
      "outputs": [
        {
          "output_type": "stream",
          "text": [
            "Number of outliers: 37\n"
          ],
          "name": "stdout"
        },
        {
          "output_type": "display_data",
          "data": {
            "text/html": [
              "<div>\n",
              "<style scoped>\n",
              "    .dataframe tbody tr th:only-of-type {\n",
              "        vertical-align: middle;\n",
              "    }\n",
              "\n",
              "    .dataframe tbody tr th {\n",
              "        vertical-align: top;\n",
              "    }\n",
              "\n",
              "    .dataframe thead th {\n",
              "        text-align: right;\n",
              "    }\n",
              "</style>\n",
              "<table border=\"1\" class=\"dataframe\">\n",
              "  <thead>\n",
              "    <tr style=\"text-align: right;\">\n",
              "      <th></th>\n",
              "      <th>Principal Component 1</th>\n",
              "      <th>Principal Component 2</th>\n",
              "      <th>outliers</th>\n",
              "    </tr>\n",
              "  </thead>\n",
              "  <tbody>\n",
              "    <tr>\n",
              "      <th>0</th>\n",
              "      <td>-0.126574</td>\n",
              "      <td>0.363977</td>\n",
              "      <td>0</td>\n",
              "    </tr>\n",
              "    <tr>\n",
              "      <th>1</th>\n",
              "      <td>0.047653</td>\n",
              "      <td>-0.209409</td>\n",
              "      <td>0</td>\n",
              "    </tr>\n",
              "    <tr>\n",
              "      <th>2</th>\n",
              "      <td>0.148972</td>\n",
              "      <td>0.021900</td>\n",
              "      <td>0</td>\n",
              "    </tr>\n",
              "    <tr>\n",
              "      <th>3</th>\n",
              "      <td>-0.534392</td>\n",
              "      <td>-0.285101</td>\n",
              "      <td>0</td>\n",
              "    </tr>\n",
              "    <tr>\n",
              "      <th>4</th>\n",
              "      <td>0.479353</td>\n",
              "      <td>0.100947</td>\n",
              "      <td>0</td>\n",
              "    </tr>\n",
              "    <tr>\n",
              "      <th>...</th>\n",
              "      <td>...</td>\n",
              "      <td>...</td>\n",
              "      <td>...</td>\n",
              "    </tr>\n",
              "    <tr>\n",
              "      <th>1138</th>\n",
              "      <td>0.266693</td>\n",
              "      <td>0.446474</td>\n",
              "      <td>0</td>\n",
              "    </tr>\n",
              "    <tr>\n",
              "      <th>1139</th>\n",
              "      <td>0.712835</td>\n",
              "      <td>0.414187</td>\n",
              "      <td>0</td>\n",
              "    </tr>\n",
              "    <tr>\n",
              "      <th>1140</th>\n",
              "      <td>0.200645</td>\n",
              "      <td>-0.249808</td>\n",
              "      <td>0</td>\n",
              "    </tr>\n",
              "    <tr>\n",
              "      <th>1141</th>\n",
              "      <td>-0.070213</td>\n",
              "      <td>0.266338</td>\n",
              "      <td>0</td>\n",
              "    </tr>\n",
              "    <tr>\n",
              "      <th>1142</th>\n",
              "      <td>-0.390801</td>\n",
              "      <td>-0.087672</td>\n",
              "      <td>0</td>\n",
              "    </tr>\n",
              "  </tbody>\n",
              "</table>\n",
              "<p>1143 rows × 3 columns</p>\n",
              "</div>"
            ],
            "text/plain": [
              "      Principal Component 1  Principal Component 2  outliers\n",
              "0                 -0.126574               0.363977         0\n",
              "1                  0.047653              -0.209409         0\n",
              "2                  0.148972               0.021900         0\n",
              "3                 -0.534392              -0.285101         0\n",
              "4                  0.479353               0.100947         0\n",
              "...                     ...                    ...       ...\n",
              "1138               0.266693               0.446474         0\n",
              "1139               0.712835               0.414187         0\n",
              "1140               0.200645              -0.249808         0\n",
              "1141              -0.070213               0.266338         0\n",
              "1142              -0.390801              -0.087672         0\n",
              "\n",
              "[1143 rows x 3 columns]"
            ]
          },
          "metadata": {
            "tags": []
          }
        },
        {
          "output_type": "display_data",
          "data": {
            "text/html": [
              "<div>\n",
              "<style scoped>\n",
              "    .dataframe tbody tr th:only-of-type {\n",
              "        vertical-align: middle;\n",
              "    }\n",
              "\n",
              "    .dataframe tbody tr th {\n",
              "        vertical-align: top;\n",
              "    }\n",
              "\n",
              "    .dataframe thead th {\n",
              "        text-align: right;\n",
              "    }\n",
              "</style>\n",
              "<table border=\"1\" class=\"dataframe\">\n",
              "  <thead>\n",
              "    <tr style=\"text-align: right;\">\n",
              "      <th></th>\n",
              "      <th>classe</th>\n",
              "      <th>outliers</th>\n",
              "    </tr>\n",
              "  </thead>\n",
              "  <tbody>\n",
              "    <tr>\n",
              "      <th>0</th>\n",
              "      <td>1</td>\n",
              "      <td>0</td>\n",
              "    </tr>\n",
              "    <tr>\n",
              "      <th>1</th>\n",
              "      <td>0</td>\n",
              "      <td>0</td>\n",
              "    </tr>\n",
              "    <tr>\n",
              "      <th>2</th>\n",
              "      <td>0</td>\n",
              "      <td>0</td>\n",
              "    </tr>\n",
              "    <tr>\n",
              "      <th>3</th>\n",
              "      <td>1</td>\n",
              "      <td>0</td>\n",
              "    </tr>\n",
              "    <tr>\n",
              "      <th>4</th>\n",
              "      <td>0</td>\n",
              "      <td>0</td>\n",
              "    </tr>\n",
              "    <tr>\n",
              "      <th>...</th>\n",
              "      <td>...</td>\n",
              "      <td>...</td>\n",
              "    </tr>\n",
              "    <tr>\n",
              "      <th>1138</th>\n",
              "      <td>0</td>\n",
              "      <td>0</td>\n",
              "    </tr>\n",
              "    <tr>\n",
              "      <th>1139</th>\n",
              "      <td>0</td>\n",
              "      <td>0</td>\n",
              "    </tr>\n",
              "    <tr>\n",
              "      <th>1140</th>\n",
              "      <td>0</td>\n",
              "      <td>0</td>\n",
              "    </tr>\n",
              "    <tr>\n",
              "      <th>1141</th>\n",
              "      <td>0</td>\n",
              "      <td>0</td>\n",
              "    </tr>\n",
              "    <tr>\n",
              "      <th>1142</th>\n",
              "      <td>1</td>\n",
              "      <td>0</td>\n",
              "    </tr>\n",
              "  </tbody>\n",
              "</table>\n",
              "<p>1143 rows × 2 columns</p>\n",
              "</div>"
            ],
            "text/plain": [
              "      classe  outliers\n",
              "0          1         0\n",
              "1          0         0\n",
              "2          0         0\n",
              "3          1         0\n",
              "4          0         0\n",
              "...      ...       ...\n",
              "1138       0         0\n",
              "1139       0         0\n",
              "1140       0         0\n",
              "1141       0         0\n",
              "1142       1         0\n",
              "\n",
              "[1143 rows x 2 columns]"
            ]
          },
          "metadata": {
            "tags": []
          }
        },
        {
          "output_type": "display_data",
          "data": {
            "image/png": "[encoded data removed]",
            "text/plain": [
              "<Figure size 432x288 with 1 Axes>"
            ]
          },
          "metadata": {
            "tags": [],
            "needs_background": "light"
          }
        }
      ]
    },
    {
      "cell_type": "code",
      "metadata": {
        "id": "mIPCij0BSI1_",
        "colab": {
          "base_uri": "https://localhost:8080/",
          "height": 821
        },
        "outputId": "9c87826d-c044-4ee7-a7d3-328107a9170b"
      },
      "source": [
        "train_df = train_df[train_df['outliers'] != -1]\n",
        "y_train = y_train[y_train['outliers'] != -1]\n",
        "\n",
        "train_df = train_df.drop('outliers', axis=1).reset_index(drop=True)\n",
        "y_train = y_train.drop('outliers', axis=1).reset_index(drop=True)\n",
        "\n",
        "display(train_df)\n",
        "display(y_train)"
      ],
      "execution_count": null,
      "outputs": [
        {
          "output_type": "display_data",
          "data": {
            "text/html": [
              "<div>\n",
              "<style scoped>\n",
              "    .dataframe tbody tr th:only-of-type {\n",
              "        vertical-align: middle;\n",
              "    }\n",
              "\n",
              "    .dataframe tbody tr th {\n",
              "        vertical-align: top;\n",
              "    }\n",
              "\n",
              "    .dataframe thead th {\n",
              "        text-align: right;\n",
              "    }\n",
              "</style>\n",
              "<table border=\"1\" class=\"dataframe\">\n",
              "  <thead>\n",
              "    <tr style=\"text-align: right;\">\n",
              "      <th></th>\n",
              "      <th>Principal Component 1</th>\n",
              "      <th>Principal Component 2</th>\n",
              "    </tr>\n",
              "  </thead>\n",
              "  <tbody>\n",
              "    <tr>\n",
              "      <th>0</th>\n",
              "      <td>-0.126574</td>\n",
              "      <td>0.363977</td>\n",
              "    </tr>\n",
              "    <tr>\n",
              "      <th>1</th>\n",
              "      <td>0.047653</td>\n",
              "      <td>-0.209409</td>\n",
              "    </tr>\n",
              "    <tr>\n",
              "      <th>2</th>\n",
              "      <td>0.148972</td>\n",
              "      <td>0.021900</td>\n",
              "    </tr>\n",
              "    <tr>\n",
              "      <th>3</th>\n",
              "      <td>-0.534392</td>\n",
              "      <td>-0.285101</td>\n",
              "    </tr>\n",
              "    <tr>\n",
              "      <th>4</th>\n",
              "      <td>0.479353</td>\n",
              "      <td>0.100947</td>\n",
              "    </tr>\n",
              "    <tr>\n",
              "      <th>...</th>\n",
              "      <td>...</td>\n",
              "      <td>...</td>\n",
              "    </tr>\n",
              "    <tr>\n",
              "      <th>1106</th>\n",
              "      <td>0.266693</td>\n",
              "      <td>0.446474</td>\n",
              "    </tr>\n",
              "    <tr>\n",
              "      <th>1107</th>\n",
              "      <td>0.712835</td>\n",
              "      <td>0.414187</td>\n",
              "    </tr>\n",
              "    <tr>\n",
              "      <th>1108</th>\n",
              "      <td>0.200645</td>\n",
              "      <td>-0.249808</td>\n",
              "    </tr>\n",
              "    <tr>\n",
              "      <th>1109</th>\n",
              "      <td>-0.070213</td>\n",
              "      <td>0.266338</td>\n",
              "    </tr>\n",
              "    <tr>\n",
              "      <th>1110</th>\n",
              "      <td>-0.390801</td>\n",
              "      <td>-0.087672</td>\n",
              "    </tr>\n",
              "  </tbody>\n",
              "</table>\n",
              "<p>1111 rows × 2 columns</p>\n",
              "</div>"
            ],
            "text/plain": [
              "      Principal Component 1  Principal Component 2\n",
              "0                 -0.126574               0.363977\n",
              "1                  0.047653              -0.209409\n",
              "2                  0.148972               0.021900\n",
              "3                 -0.534392              -0.285101\n",
              "4                  0.479353               0.100947\n",
              "...                     ...                    ...\n",
              "1106               0.266693               0.446474\n",
              "1107               0.712835               0.414187\n",
              "1108               0.200645              -0.249808\n",
              "1109              -0.070213               0.266338\n",
              "1110              -0.390801              -0.087672\n",
              "\n",
              "[1111 rows x 2 columns]"
            ]
          },
          "metadata": {
            "tags": []
          }
        },
        {
          "output_type": "display_data",
          "data": {
            "text/html": [
              "<div>\n",
              "<style scoped>\n",
              "    .dataframe tbody tr th:only-of-type {\n",
              "        vertical-align: middle;\n",
              "    }\n",
              "\n",
              "    .dataframe tbody tr th {\n",
              "        vertical-align: top;\n",
              "    }\n",
              "\n",
              "    .dataframe thead th {\n",
              "        text-align: right;\n",
              "    }\n",
              "</style>\n",
              "<table border=\"1\" class=\"dataframe\">\n",
              "  <thead>\n",
              "    <tr style=\"text-align: right;\">\n",
              "      <th></th>\n",
              "      <th>classe</th>\n",
              "    </tr>\n",
              "  </thead>\n",
              "  <tbody>\n",
              "    <tr>\n",
              "      <th>0</th>\n",
              "      <td>1</td>\n",
              "    </tr>\n",
              "    <tr>\n",
              "      <th>1</th>\n",
              "      <td>0</td>\n",
              "    </tr>\n",
              "    <tr>\n",
              "      <th>2</th>\n",
              "      <td>0</td>\n",
              "    </tr>\n",
              "    <tr>\n",
              "      <th>3</th>\n",
              "      <td>1</td>\n",
              "    </tr>\n",
              "    <tr>\n",
              "      <th>4</th>\n",
              "      <td>0</td>\n",
              "    </tr>\n",
              "    <tr>\n",
              "      <th>...</th>\n",
              "      <td>...</td>\n",
              "    </tr>\n",
              "    <tr>\n",
              "      <th>1106</th>\n",
              "      <td>0</td>\n",
              "    </tr>\n",
              "    <tr>\n",
              "      <th>1107</th>\n",
              "      <td>0</td>\n",
              "    </tr>\n",
              "    <tr>\n",
              "      <th>1108</th>\n",
              "      <td>0</td>\n",
              "    </tr>\n",
              "    <tr>\n",
              "      <th>1109</th>\n",
              "      <td>0</td>\n",
              "    </tr>\n",
              "    <tr>\n",
              "      <th>1110</th>\n",
              "      <td>1</td>\n",
              "    </tr>\n",
              "  </tbody>\n",
              "</table>\n",
              "<p>1111 rows × 1 columns</p>\n",
              "</div>"
            ],
            "text/plain": [
              "      classe\n",
              "0          1\n",
              "1          0\n",
              "2          0\n",
              "3          1\n",
              "4          0\n",
              "...      ...\n",
              "1106       0\n",
              "1107       0\n",
              "1108       0\n",
              "1109       0\n",
              "1110       1\n",
              "\n",
              "[1111 rows x 1 columns]"
            ]
          },
          "metadata": {
            "tags": []
          }
        }
      ]
    },
    {
      "cell_type": "code",
      "metadata": {
        "id": "73REIMmCTaas",
        "colab": {
          "base_uri": "https://localhost:8080/",
          "height": 265
        },
        "outputId": "6705eb9c-4e9b-4d51-c25f-d9457c7a20bd"
      },
      "source": [
        "plt.scatter( train_df.iloc[:, 0], train_df.iloc[:, 1], marker=\"o\")\n",
        "plt.show()"
      ],
      "execution_count": null,
      "outputs": [
        {
          "output_type": "display_data",
          "data": {
            "image/png": "[encoded data removed]",
            "text/plain": [
              "<Figure size 432x288 with 1 Axes>"
            ]
          },
          "metadata": {
            "tags": [],
            "needs_background": "light"
          }
        }
      ]
    },
    {
      "cell_type": "markdown",
      "metadata": {
        "id": "inVA-kygWtJ7"
      },
      "source": [
        "# Modelos\n",
        "\n",
        "Para os modelos que exigem definição de parâmetros foi utilizado o método GridSearch para definir os parâmetros que alcançam o melhor resultado.\n",
        "\n",
        "Já para a avaliação e comparação entre os modelos, foi utilizado a acurácia por validação cruzada.\n",
        "\n",
        "Para o melhor modelo, levando em conta a métrica citada anteriormente, foi plotada a matriz de confusão. E para os três melhores foram plotadas as curvas ROC com suas respectivas áreas."
      ]
    },
    {
      "cell_type": "code",
      "metadata": {
        "id": "IH7J8ETiWuXq"
      },
      "source": [
        "X_train, X_val, Y_train, Y_val = train_test_split(train_df, y_train['classe'], test_size=0.2, random_state=42)"
      ],
      "execution_count": null,
      "outputs": []
    },
    {
      "cell_type": "code",
      "metadata": {
        "id": "xA3e1J6YWy2t"
      },
      "source": [
        "GridSearch = False"
      ],
      "execution_count": null,
      "outputs": []
    },
    {
      "cell_type": "markdown",
      "metadata": {
        "id": "qKbnUlD1XGbQ"
      },
      "source": [
        "## Logistic Regression"
      ]
    },
    {
      "cell_type": "code",
      "metadata": {
        "id": "dT-LiTlrXFjP",
        "colab": {
          "base_uri": "https://localhost:8080/"
        },
        "outputId": "15e41652-cd12-494b-b595-e2e24baaf905"
      },
      "source": [
        "if GridSearch == True:\n",
        "    param_grid = {'C':[0.01, 0.1,0.2,0.25,0.3,0.4, 1, 2],'max_iter': [150,200,250, 300, 1000,1500], 'random_state':[42] } \n",
        "    log_reg = LogisticRegression()\n",
        "    log_reg_cv = GridSearchCV(log_reg, param_grid)\n",
        "    log_reg_cv.fit(X_train, Y_train)\n",
        "    print(log_reg_cv.best_params_)\n",
        "    log_reg_cv = log_reg_cv.best_estimator_\n",
        "    acc_log_reg = cross_val_score(log_reg_cv, X_val, Y_val, cv=10).mean()\n",
        "    print(acc_log_reg)\n",
        "    # {'C': 0.4, 'max_iter': 150, 'random_state': 42}\n",
        "else:\n",
        "    log_reg_cv = LogisticRegression(C=0.4, max_iter=150, random_state=42).fit(X_train, Y_train).fit(X_train, Y_train)\n",
        "    acc_log_reg = cross_val_score(log_reg_cv, X_val, Y_val, cv=10).mean()\n",
        "    print(acc_log_reg)"
      ],
      "execution_count": null,
      "outputs": [
        {
          "output_type": "stream",
          "text": [
            "0.9017786561264824\n"
          ],
          "name": "stdout"
        }
      ]
    },
    {
      "cell_type": "markdown",
      "metadata": {
        "id": "DItRiSEJXLn6"
      },
      "source": [
        "## kNN Classifier"
      ]
    },
    {
      "cell_type": "code",
      "metadata": {
        "id": "BCUtHWLqXJUk",
        "colab": {
          "base_uri": "https://localhost:8080/"
        },
        "outputId": "96dbcbef-a6d3-4400-8e3a-471454191298"
      },
      "source": [
        "if GridSearch == True:\n",
        "    param_grid = {'n_neighbors': np.arange(1,30), 'p':[1,2]}\n",
        "    knn = KNeighborsClassifier()\n",
        "    knn_cv = GridSearchCV(knn, param_grid)\n",
        "    knn_cv.fit(X_train, Y_train)\n",
        "    print(knn_cv.best_params_)\n",
        "    knn_cv = knn_cv.best_estimator_\n",
        "    acc_knn = cross_val_score(knn_cv, X_val, Y_val, cv=10).mean()\n",
        "    print(acc_knn)\n",
        "    # {'n_neighbors': 29, 'p': 2}\n",
        "else:\n",
        "    knn_cv = KNeighborsClassifier(n_neighbors=29, p=2).fit(X_train, Y_train)\n",
        "    acc_knn = cross_val_score(knn_cv, X_val, Y_val, cv=10).mean()\n",
        "    print(acc_knn)"
      ],
      "execution_count": null,
      "outputs": [
        {
          "output_type": "stream",
          "text": [
            "0.9019762845849802\n"
          ],
          "name": "stdout"
        }
      ]
    },
    {
      "cell_type": "markdown",
      "metadata": {
        "id": "D5kd5aNrXO2O"
      },
      "source": [
        "## Naive-Bayes"
      ]
    },
    {
      "cell_type": "code",
      "metadata": {
        "id": "9izWDasIXNez",
        "colab": {
          "base_uri": "https://localhost:8080/"
        },
        "outputId": "ebf49585-9087-44ab-b409-6f4b04f4f1d7"
      },
      "source": [
        "nb_cv = GaussianNB().fit(X_train, Y_train)\n",
        "nb_cv.predict(X_val)\n",
        "acc_nb = cross_val_score(nb_cv, X_val, Y_val, cv=10).mean()\n",
        "\n",
        "print(acc_nb)"
      ],
      "execution_count": null,
      "outputs": [
        {
          "output_type": "stream",
          "text": [
            "0.9108695652173914\n"
          ],
          "name": "stdout"
        }
      ]
    },
    {
      "cell_type": "markdown",
      "metadata": {
        "id": "I7GNTyW0XTKS"
      },
      "source": [
        "## SGD"
      ]
    },
    {
      "cell_type": "code",
      "metadata": {
        "id": "De5kIUauXSh_",
        "colab": {
          "base_uri": "https://localhost:8080/"
        },
        "outputId": "98ae1c15-6fe0-4697-82d2-74a21ca980b5"
      },
      "source": [
        "if GridSearch == True:\n",
        "    param_grid = {'alpha':[0.01, 0.1,0.2, 1, 2],'max_iter': [70,75,80,90,120,150,200], 'random_state':[42] } \n",
        "    sgd = SGDClassifier()\n",
        "    sgd_cv =  GridSearchCV(sgd, param_grid)\n",
        "    sgd_cv.fit(X_train, Y_train)\n",
        "    print(sgd_cv.best_params_)\n",
        "    sgd_cv = sgd_cv.best_estimator_\n",
        "    acc_sgd = cross_val_score(sgd_cv, X_val, Y_val, cv=10).mean()\n",
        "    print(acc_sgd)\n",
        "    # {'alpha': 0.01, 'max_iter': 70, 'random_state': 42}\n",
        "else:\n",
        "    sgd_cv = SGDClassifier(alpha=0.01, max_iter=70, random_state=42).fit(X_train, Y_train)\n",
        "    acc_sgd = cross_val_score(sgd_cv, X_val, Y_val, cv=10).mean()\n",
        "    print(acc_sgd)"
      ],
      "execution_count": null,
      "outputs": [
        {
          "output_type": "stream",
          "text": [
            "0.8974308300395257\n"
          ],
          "name": "stdout"
        }
      ]
    },
    {
      "cell_type": "markdown",
      "metadata": {
        "id": "6Ha6m_Q6XXaW"
      },
      "source": [
        "## Random Forest"
      ]
    },
    {
      "cell_type": "code",
      "metadata": {
        "id": "yuSS4kinXWGB",
        "colab": {
          "base_uri": "https://localhost:8080/"
        },
        "outputId": "0c82850c-7ef8-4b81-c93b-50c41eded622"
      },
      "source": [
        "if GridSearch == True:\n",
        "    param_grid = { \"criterion\" : [\"gini\", \"entropy\"], \"min_samples_leaf\" : [1, 5, 10, 25, 50, 70], \"min_samples_split\" : [2, 4, 10, 12, 16, 18, 25, 35], \"n_estimators\": [100, 400, 700, 1000, 1500], 'random_state': [42]}\n",
        "    rf = RandomForestClassifier(n_estimators=100, max_features='auto', oob_score=True, random_state=1, n_jobs=-1)\n",
        "    rf_cv = GridSearchCV(estimator=rf, param_grid=param_grid, n_jobs=-1)\n",
        "    rf_cv.fit(X_train, Y_train)\n",
        "    print(rf_cv.best_params_)\n",
        "    rf_cv = rf_cv.best_estimator_\n",
        "    acc_rf = cross_val_score(rf_cv, X_val, Y_val, cv=10).mean()\n",
        "    print(acc_rf)\n",
        "    # {'criterion': 'gini', 'min_samples_leaf': 50, 'min_samples_split': 2, 'n_estimators': 700, 'random_state': 42}\n",
        "else:\n",
        "    rf_cv = rf = RandomForestClassifier(criterion='gini', n_estimators=700, min_samples_leaf=50, min_samples_split=2, \n",
        "                                        oob_score=True, random_state=42, n_jobs=-1).fit(X_train, Y_train)\n",
        "    acc_rf = cross_val_score(rf_cv, X_val, Y_val, cv=10).mean()\n",
        "    print(acc_rf)"
      ],
      "execution_count": null,
      "outputs": [
        {
          "output_type": "stream",
          "text": [
            "0.8972332015810277\n"
          ],
          "name": "stdout"
        }
      ]
    },
    {
      "cell_type": "markdown",
      "metadata": {
        "id": "eDaWkN3SXa8f"
      },
      "source": [
        "## AdaBoost"
      ]
    },
    {
      "cell_type": "code",
      "metadata": {
        "colab": {
          "base_uri": "https://localhost:8080/"
        },
        "id": "r23dfqBgXZsc",
        "outputId": "a22fbb7a-8ace-43e3-e79a-d48b1f1f44ca"
      },
      "source": [
        "if GridSearch == True:\n",
        "    param_grid = {'base_estimator': [LogisticRegression(random_state=1), LogisticRegression(random_state=42), DecisionTreeClassifier()],\n",
        "                  'learning_rate':[0.1, 0.3, 0.6, 0.9, 1.1, 1.3], 'n_estimators':[55, 60, 65, 70], 'random_state':[42]}\n",
        "    adb = AdaBoostClassifier()\n",
        "    adb_cv = GridSearchCV(adb, param_grid)\n",
        "    adb_cv.fit(X_train, Y_train)\n",
        "    print(adb_cv.best_params_)\n",
        "    adb_cv = adb_cv.best_estimator_\n",
        "    acc_adb = cross_val_score(adb_cv, X_val, Y_val, cv=10).mean()\n",
        "    print(acc_adb)\n",
        "    # {'base_estimator': LogisticRegression(C=1.0, class_weight=None, dual=False, fit_intercept=True, intercept_scaling=1, l1_ratio=None, max_iter=100, multi_class='auto', n_jobs=None, penalty='l2', random_state=1, solver='lbfgs', tol=0.0001, verbose=0, warm_start=False), 'learning_rate': 1.3, 'n_estimators': 65, 'random_state': 42}\n",
        "else:\n",
        "    adb_cv = AdaBoostClassifier(base_estimator=LogisticRegression(C=1.0, class_weight=None, dual=False, \n",
        "                                                                  fit_intercept=True, intercept_scaling=1, \n",
        "                                                                  l1_ratio=None, max_iter=100, \n",
        "                                                                  multi_class='auto', n_jobs=None, \n",
        "                                                                  penalty='l2', random_state=1, \n",
        "                                                                  solver='lbfgs', tol=0.0001, verbose=0, \n",
        "                                                                  warm_start=False), \n",
        "                                learning_rate=1.3, n_estimators=65, random_state=42).fit(X_train, Y_train)\n",
        "    acc_adb = cross_val_score(adb_cv, X_val, Y_val, cv=10).mean()\n",
        "    print(acc_adb)"
      ],
      "execution_count": null,
      "outputs": [
        {
          "output_type": "stream",
          "text": [
            "0.9063241106719369\n"
          ],
          "name": "stdout"
        }
      ]
    },
    {
      "cell_type": "markdown",
      "metadata": {
        "id": "UqK4zZVHXeoG"
      },
      "source": [
        "## Bagging Classifier"
      ]
    },
    {
      "cell_type": "code",
      "metadata": {
        "colab": {
          "base_uri": "https://localhost:8080/"
        },
        "id": "zeVtEmsEXdxm",
        "outputId": "244ba92f-ec00-449f-b61b-54eaa8230f0e"
      },
      "source": [
        "if GridSearch == True:\n",
        "    param_grid = {'base_estimator': [LogisticRegression(random_state=42), DecisionTreeClassifier()],\n",
        "                  'max_features':[1, 2],'max_samples':[30,40,50,60], 'n_estimators':[20,30,40,50],\n",
        "                  'random_state':[42] } \n",
        "    bc = BaggingClassifier(n_jobs=-1)\n",
        "    bc_cv = GridSearchCV(bc, param_grid)\n",
        "    bc_cv.fit(X_train, Y_train)\n",
        "    print(bc_cv.best_params_)\n",
        "    bc_cv = bc_cv.best_estimator_\n",
        "    acc_bc = cross_val_score(bc_cv, X_val, Y_val, cv=10).mean()\n",
        "    print(acc_bc)\n",
        "    # {'base_estimator': DecisionTreeClassifier(ccp_alpha=0.0, class_weight=None, criterion='gini', max_depth=None, max_features=None, max_leaf_nodes=None, min_impurity_decrease=0.0, min_impurity_split=None, min_samples_leaf=1, min_samples_split=2, min_weight_fraction_leaf=0.0, presort='deprecated', random_state=None, splitter='best'), 'max_features': 2, 'max_samples': 60, 'n_estimators': 40, 'random_state': 42}\n",
        "else:\n",
        "    bc_cv = BaggingClassifier(base_estimator=DecisionTreeClassifier(ccp_alpha=0.0, class_weight=None, \n",
        "                                                                    criterion='gini', max_depth=None, \n",
        "                                                                    max_features=None, max_leaf_nodes=None, \n",
        "                                                                    min_impurity_decrease=0.0, \n",
        "                                                                    min_impurity_split=None, min_samples_leaf=1, \n",
        "                                                                    min_samples_split=2, \n",
        "                                                                    min_weight_fraction_leaf=0.0, \n",
        "                                                                    presort='deprecated', random_state=None, \n",
        "                                                                    splitter='best'), max_features=2, \n",
        "                              max_samples=60, n_estimators=40, random_state=42, n_jobs=-1).fit(X_train, Y_train)\n",
        "    acc_bc = cross_val_score(bc_cv, X_val, Y_val, cv=10).mean()\n",
        "    print(acc_bc)"
      ],
      "execution_count": null,
      "outputs": [
        {
          "output_type": "stream",
          "text": [
            "0.9019762845849802\n"
          ],
          "name": "stdout"
        }
      ]
    },
    {
      "cell_type": "markdown",
      "metadata": {
        "id": "1RJI4JtzXivd"
      },
      "source": [
        "## XGBoost"
      ]
    },
    {
      "cell_type": "code",
      "metadata": {
        "colab": {
          "base_uri": "https://localhost:8080/",
          "height": 329
        },
        "id": "7DVvOL3RXh34",
        "outputId": "2268c2d0-ac7d-42aa-d36e-538c18088ad8"
      },
      "source": [
        "if GridSearch == True:\n",
        "    param_grid = {'n_estimators':[300,500,1000], 'objective':['binary:logistic'], 'eval_metric': ['logloss'], 'learning_rate':[0.1, 0.5, 1],'max_depth':[1, 5, 10] }\n",
        "    xgb = xgb.XGBClassifier()\n",
        "    xgb_cv =  GridSearchCV(xgb, param_grid) \n",
        "    xgb_cv.fit(X_train, Y_train)\n",
        "    print(xgb_cv.best_params_)\n",
        "    xgb_cv = xgb_cv.best_estimator_\n",
        "    acc_xgb = cross_val_score(xgb_cv, X_val, Y_val, cv=10).mean()\n",
        "    print(acc_xgb)\n",
        "    # {'eval_metric': 'logloss', 'learning_rate': 0.1, 'max_depth': 1, 'n_estimators': 500, 'objective': 'binary:logistic'}\n",
        "else:\n",
        "    xgb_cv = xgb.XGBClassifier(learning_rate=0.1, max_depth=1, n_estimators=500, eval_metric='logloss', objective='binary:logistic').fit(X_train, Y_train)\n",
        "    acc_xgb = cross_val_score(xgb_cv, X_val, Y_val, cv=10).mean()\n",
        "    print(acc_xgb)\n",
        "plot_importance(xgb_cv)"
      ],
      "execution_count": null,
      "outputs": [
        {
          "output_type": "stream",
          "text": [
            "0.906719367588933\n"
          ],
          "name": "stdout"
        },
        {
          "output_type": "execute_result",
          "data": {
            "text/plain": [
              "<matplotlib.axes._subplots.AxesSubplot at 0x7f3dc4fb2610>"
            ]
          },
          "metadata": {
            "tags": []
          },
          "execution_count": 26
        },
        {
          "output_type": "display_data",
          "data": {
            "image/png": "[encoded data removed]",
            "text/plain": [
              "<Figure size 432x288 with 1 Axes>"
            ]
          },
          "metadata": {
            "tags": [],
            "needs_background": "light"
          }
        }
      ]
    },
    {
      "cell_type": "markdown",
      "metadata": {
        "id": "28kNkeo2XoGp"
      },
      "source": [
        "## Stacking Classifier"
      ]
    },
    {
      "cell_type": "code",
      "metadata": {
        "colab": {
          "base_uri": "https://localhost:8080/"
        },
        "id": "sqGwvNo1XlbX",
        "outputId": "a3e8a0c7-6d98-45e3-8ad0-1e7c1aba7199"
      },
      "source": [
        "estimators = [('bagging_clf', bc_cv), ('naivebayes_clf', nb_cv), ('XGB_clf', xgb_cv), ('knn_clf', knn_cv)]\n",
        "\n",
        "stack_clf = StackingClassifier(estimators=estimators, final_estimator=nb_cv).fit(X_train, Y_train)\n",
        "acc_stg = cross_val_score(stack_clf, X_val, Y_val, cv=10).mean()\n",
        "print(acc_stg)"
      ],
      "execution_count": null,
      "outputs": [
        {
          "output_type": "stream",
          "text": [
            "0.9019762845849802\n"
          ],
          "name": "stdout"
        }
      ]
    },
    {
      "cell_type": "markdown",
      "metadata": {
        "id": "rLv-eV8sXths"
      },
      "source": [
        "## Voting Classifier"
      ]
    },
    {
      "cell_type": "code",
      "metadata": {
        "colab": {
          "base_uri": "https://localhost:8080/"
        },
        "id": "oL5-OFO8XsRX",
        "outputId": "c41e8705-1aa9-43c1-a08c-bfce929913f0"
      },
      "source": [
        "estimators = [('bagging_clf', bc_cv), ('naivebayes_clf', nb_cv), ('XGB_clf', xgb_cv), ('knn_clf', knn_cv)]\n",
        "\n",
        "vc_clf = VotingClassifier(estimators=estimators, voting='hard').fit(X_train, Y_train)\n",
        "acc_vc = cross_val_score(vc_clf, X_val, Y_val, cv=10).mean()\n",
        "print(acc_vc)"
      ],
      "execution_count": null,
      "outputs": [
        {
          "output_type": "stream",
          "text": [
            "0.9063241106719369\n"
          ],
          "name": "stdout"
        }
      ]
    },
    {
      "cell_type": "markdown",
      "metadata": {
        "id": "WhY_z8kRXxOg"
      },
      "source": [
        "# Avaliação dos modelos implementados"
      ]
    },
    {
      "cell_type": "code",
      "metadata": {
        "colab": {
          "base_uri": "https://localhost:8080/",
          "height": 359
        },
        "id": "ay8hhvcnXvnU",
        "outputId": "51233828-e4b6-4890-fcd7-517c575b29fd"
      },
      "source": [
        "models = pd.DataFrame({ 'Model': ['KNN', 'Logistic Regression', 'Random Forest', 'Naive Bayes', \n",
        "                                  'AdaBoost', 'Stochastic Gradient Decent', 'BaggingClassifier',\n",
        "                                  'XGBoost', 'StackingClassifier', 'VotingClassifier'],\n",
        "                       'Score': [acc_knn, acc_log_reg, acc_rf, acc_nb, acc_adb, \n",
        "                                 acc_sgd, acc_bc, acc_xgb, acc_stg, acc_vc]})\n",
        "models.sort_values(by='Score', ascending=False)"
      ],
      "execution_count": null,
      "outputs": [
        {
          "output_type": "execute_result",
          "data": {
            "text/html": [
              "<div>\n",
              "<style scoped>\n",
              "    .dataframe tbody tr th:only-of-type {\n",
              "        vertical-align: middle;\n",
              "    }\n",
              "\n",
              "    .dataframe tbody tr th {\n",
              "        vertical-align: top;\n",
              "    }\n",
              "\n",
              "    .dataframe thead th {\n",
              "        text-align: right;\n",
              "    }\n",
              "</style>\n",
              "<table border=\"1\" class=\"dataframe\">\n",
              "  <thead>\n",
              "    <tr style=\"text-align: right;\">\n",
              "      <th></th>\n",
              "      <th>Model</th>\n",
              "      <th>Score</th>\n",
              "    </tr>\n",
              "  </thead>\n",
              "  <tbody>\n",
              "    <tr>\n",
              "      <th>3</th>\n",
              "      <td>Naive Bayes</td>\n",
              "      <td>0.910870</td>\n",
              "    </tr>\n",
              "    <tr>\n",
              "      <th>7</th>\n",
              "      <td>XGBoost</td>\n",
              "      <td>0.906719</td>\n",
              "    </tr>\n",
              "    <tr>\n",
              "      <th>4</th>\n",
              "      <td>AdaBoost</td>\n",
              "      <td>0.906324</td>\n",
              "    </tr>\n",
              "    <tr>\n",
              "      <th>9</th>\n",
              "      <td>VotingClassifier</td>\n",
              "      <td>0.906324</td>\n",
              "    </tr>\n",
              "    <tr>\n",
              "      <th>0</th>\n",
              "      <td>KNN</td>\n",
              "      <td>0.901976</td>\n",
              "    </tr>\n",
              "    <tr>\n",
              "      <th>6</th>\n",
              "      <td>BaggingClassifier</td>\n",
              "      <td>0.901976</td>\n",
              "    </tr>\n",
              "    <tr>\n",
              "      <th>8</th>\n",
              "      <td>StackingClassifier</td>\n",
              "      <td>0.901976</td>\n",
              "    </tr>\n",
              "    <tr>\n",
              "      <th>1</th>\n",
              "      <td>Logistic Regression</td>\n",
              "      <td>0.901779</td>\n",
              "    </tr>\n",
              "    <tr>\n",
              "      <th>5</th>\n",
              "      <td>Stochastic Gradient Decent</td>\n",
              "      <td>0.897431</td>\n",
              "    </tr>\n",
              "    <tr>\n",
              "      <th>2</th>\n",
              "      <td>Random Forest</td>\n",
              "      <td>0.897233</td>\n",
              "    </tr>\n",
              "  </tbody>\n",
              "</table>\n",
              "</div>"
            ],
            "text/plain": [
              "                        Model     Score\n",
              "3                 Naive Bayes  0.910870\n",
              "7                     XGBoost  0.906719\n",
              "4                    AdaBoost  0.906324\n",
              "9            VotingClassifier  0.906324\n",
              "0                         KNN  0.901976\n",
              "6           BaggingClassifier  0.901976\n",
              "8          StackingClassifier  0.901976\n",
              "1         Logistic Regression  0.901779\n",
              "5  Stochastic Gradient Decent  0.897431\n",
              "2               Random Forest  0.897233"
            ]
          },
          "metadata": {
            "tags": []
          },
          "execution_count": 29
        }
      ]
    },
    {
      "cell_type": "markdown",
      "metadata": {
        "id": "qzk24R6OeF6Y"
      },
      "source": [
        "## Matriz de Confusão"
      ]
    },
    {
      "cell_type": "code",
      "metadata": {
        "colab": {
          "base_uri": "https://localhost:8080/",
          "height": 311
        },
        "id": "RNVN4OQBb6Cb",
        "outputId": "fabf577b-782f-49b2-a90b-c8cb7d2b8cfe"
      },
      "source": [
        "def plot_confusion_matrix(cm, classes, normalize=False, title='Confusion matrix', cmap=plt.cm.Blues):\n",
        "    \"\"\"\n",
        "    This function prints and plots the confusion matrix.\n",
        "    Normalization can be applied by setting `normalize=True`.\n",
        "    \"\"\"\n",
        "    plt.imshow(cm, interpolation='nearest', cmap=cmap)\n",
        "    plt.title(title)\n",
        "    plt.colorbar()\n",
        "    tick_marks = np.arange(len(classes))\n",
        "    plt.xticks(tick_marks, classes)\n",
        "    plt.yticks(tick_marks, classes)\n",
        "\n",
        "    if normalize:\n",
        "        cm = cm.astype('float') / cm.sum(axis=1)[:, np.newaxis]\n",
        "\n",
        "    thresh = cm.max() / 2.\n",
        "    for i, j in itertools.product(range(cm.shape[0]), range(cm.shape[1])):\n",
        "        plt.text(j, i, cm[i, j],\n",
        "                 horizontalalignment=\"center\",\n",
        "                 color=\"white\" if cm[i, j] > thresh else \"black\")\n",
        "\n",
        "    plt.tight_layout()\n",
        "    plt.ylabel('True label')\n",
        "    plt.xlabel('Predicted label')\n",
        "\n",
        "# Predict the values from the validation dataset\n",
        "Y_pred = nb_cv.predict(X_val)\n",
        "Y_pred_classes = Y_pred\n",
        "Y_true = Y_val\n",
        "confusion_mtx = confusion_matrix(Y_true, Y_pred_classes) \n",
        "plot_confusion_matrix(confusion_mtx, classes=range(2), title=\"Naive-Bayes Confusion Matrix\") "
      ],
      "execution_count": null,
      "outputs": [
        {
          "output_type": "display_data",
          "data": {
            "image/png": "[encoded data removed]",
            "text/plain": [
              "<Figure size 432x288 with 2 Axes>"
            ]
          },
          "metadata": {
            "tags": [],
            "needs_background": "light"
          }
        }
      ]
    },
    {
      "cell_type": "markdown",
      "metadata": {
        "id": "1sUA80-JeIeX"
      },
      "source": [
        "## Curva ROC\n",
        "\n",
        "Curva ROC apresenta a proporção de verdadeiros positivos e falsos positivos. A linha tracejada indica um \"modelo\" completamente aleatório. Dessa forma, modelos que se encontram abaixo dessa linha possuem um desempenho muito ruim, pior que uma análise aleatória.\n",
        "No caso, foram plotados os 3 melhores modelos seguindo a métrica de acurácia por validação cruzada. Ambos estão bem acima da linha tracejada, indicando um bom resultado. Além da visualização do gráfico, a área sob as curvas é uma medida de desempenho, uma vez que quanto maior for a área, maior é a proporção de acertos de verdadeiros positivos e consequentemente, melhor o algoritmo."
      ]
    },
    {
      "cell_type": "code",
      "metadata": {
        "colab": {
          "base_uri": "https://localhost:8080/",
          "height": 405
        },
        "id": "Zfr1HwX_eDwE",
        "outputId": "91ae11af-7077-49d7-cfd4-3fc6d431793c"
      },
      "source": [
        "Y_prob_NB = nb_cv.predict_proba(X_val)[:, 1]\n",
        "Y_prob_XGB = xgb_cv.predict_proba(X_val)[:, 1]\n",
        "Y_prob_ADB = adb_cv.predict_proba(X_val)[:, 1]\n",
        "\n",
        "fprNB, tprNB, _ = roc_curve( Y_val, Y_prob_NB )\n",
        "fprXGB, tprXGB, _ = roc_curve( Y_val, Y_prob_XGB)\n",
        "fprADB, tprADB, _ = roc_curve( Y_val, Y_prob_ADB)\n",
        "\n",
        "aucNB = roc_auc_score( Y_val, Y_prob_NB )\n",
        "aucXGB = roc_auc_score( Y_val, Y_prob_XGB )\n",
        "aucADB = roc_auc_score( Y_val, Y_prob_ADB )\n",
        "\n",
        "plt.figure(figsize=(8, 6))\n",
        "plt.plot(fprNB, tprNB, color=\"blue\", lw=2, label=\"NB (AUC=%0.4f)\"%aucNB)\n",
        "plt.plot(fprXGB, tprXGB, color=\"red\", lw=2, label=\"XGB (AUC=%0.4f)\"%aucXGB)\n",
        "plt.plot(fprADB, tprADB, color=\"green\", lw=2, label=\"ADB (AUC=%0.4f)\"%aucADB)\n",
        "plt.plot([0,1], [0, 1], color=\"black\", lw=1, linestyle=\"--\")\n",
        "\n",
        "plt.xlim([0.0, 1.0])\n",
        "plt.ylim([0.0, 1.02])\n",
        "plt.xlabel(\"Taxa de Falsos Positivos\")\n",
        "plt.ylabel(\"Taxa de Verdadeiros Positivos\")\n",
        "plt.legend()"
      ],
      "execution_count": null,
      "outputs": [
        {
          "output_type": "execute_result",
          "data": {
            "text/plain": [
              "<matplotlib.legend.Legend at 0x7f3dc6714490>"
            ]
          },
          "metadata": {
            "tags": []
          },
          "execution_count": 31
        },
        {
          "output_type": "display_data",
          "data": {
            "image/png": "[encoded data removed]",
            "text/plain": [
              "<Figure size 576x432 with 1 Axes>"
            ]
          },
          "metadata": {
            "tags": [],
            "needs_background": "light"
          }
        }
      ]
    },
    {
      "cell_type": "markdown",
      "metadata": {
        "id": "vnuReKXWk60W"
      },
      "source": [
        "# Plot da superfície de decisão\n",
        "Por último nós plotamos a superfície de decisão do modelo GaussianNB que obteve os melhores resultados. No gráfico os pontos representam os valores reais de cada classe, e a malha no fundo representa como os valores de \"Principal Component 1\" e \"Principal Component 2\" serão classificados.\n",
        "\n"
      ]
    },
    {
      "cell_type": "code",
      "metadata": {
        "id": "LBIbuI0Ggiwt",
        "colab": {
          "base_uri": "https://localhost:8080/",
          "height": 265
        },
        "outputId": "4849a23c-60cb-42b4-fc9f-bd32f1a905e4"
      },
      "source": [
        "from matplotlib.colors import ListedColormap\n",
        "\n",
        "h = 0.001\n",
        "x1t, x2t = np.meshgrid(np.arange(X_val['Principal Component 1'].min(), X_val['Principal Component 1'].max(), h), np.arange(X_val['Principal Component 2'].min(), X_val['Principal Component 2'].max(), h))\n",
        "\n",
        "Yt = nb_cv.predict(np.c_[x1t.ravel(), x2t.ravel()])\n",
        "\n",
        "Yt = Yt.reshape( x1t.shape )\n",
        "\n",
        "cores = ListedColormap([\"#AAAAFF\", \"#AAFFAA\"])\n",
        "plt.pcolormesh(x1t, x2t, Yt, cmap=cores)\n",
        "X_concat = pd.concat([X_val, Y_val], axis=1)\n",
        "\n",
        "x0 = X_concat.loc[ X_concat.classe == 0, :]\n",
        "x1 = X_concat.loc[ X_concat.classe == 1, :]\n",
        "\n",
        "plt.plot(x0['Principal Component 1'], x0['Principal Component 2'], \"bs\", x1['Principal Component 1'], x1['Principal Component 2'], \"g^\")\n",
        "plt.legend(['0', '1'])\n",
        "plt.show()"
      ],
      "execution_count": null,
      "outputs": [
        {
          "output_type": "display_data",
          "data": {
            "image/png": "[encoded data removed]",
            "text/plain": [
              "<Figure size 432x288 with 1 Axes>"
            ]
          },
          "metadata": {
            "tags": [],
            "needs_background": "light"
          }
        }
      ]
    },
    {
      "cell_type": "markdown",
      "metadata": {
        "id": "IhKxXJyUs1-x"
      },
      "source": [
        "# Predizendo valores da base de teste"
      ]
    },
    {
      "cell_type": "code",
      "metadata": {
        "id": "JNa4miT9szvY",
        "colab": {
          "base_uri": "https://localhost:8080/",
          "height": 436
        },
        "outputId": "0f5f637d-9002-44d0-f428-6ba65b423c03"
      },
      "source": [
        "from google.colab import drive\n",
        "drive.mount(\"/content/drive\")\n",
        "\n",
        "\n",
        "Y_pred = nb_cv.predict(test_df)\n",
        "\n",
        "test_df['classe'] = Y_pred\n",
        "# df = pd.DataFrame(Y_pred, columns=\"classe\")\n",
        "display(test_df)\n",
        "test_df['classe'].to_csv('/content/drive/MyDrive/trab07Predito.csv')\n"
      ],
      "execution_count": null,
      "outputs": [
        {
          "output_type": "stream",
          "text": [
            "Mounted at /content/drive\n"
          ],
          "name": "stdout"
        },
        {
          "output_type": "display_data",
          "data": {
            "text/html": [
              "<div>\n",
              "<style scoped>\n",
              "    .dataframe tbody tr th:only-of-type {\n",
              "        vertical-align: middle;\n",
              "    }\n",
              "\n",
              "    .dataframe tbody tr th {\n",
              "        vertical-align: top;\n",
              "    }\n",
              "\n",
              "    .dataframe thead th {\n",
              "        text-align: right;\n",
              "    }\n",
              "</style>\n",
              "<table border=\"1\" class=\"dataframe\">\n",
              "  <thead>\n",
              "    <tr style=\"text-align: right;\">\n",
              "      <th></th>\n",
              "      <th>Principal Component 1</th>\n",
              "      <th>Principal Component 2</th>\n",
              "      <th>classe</th>\n",
              "    </tr>\n",
              "  </thead>\n",
              "  <tbody>\n",
              "    <tr>\n",
              "      <th>0</th>\n",
              "      <td>0.250521</td>\n",
              "      <td>0.191754</td>\n",
              "      <td>0</td>\n",
              "    </tr>\n",
              "    <tr>\n",
              "      <th>1</th>\n",
              "      <td>0.161573</td>\n",
              "      <td>0.400252</td>\n",
              "      <td>0</td>\n",
              "    </tr>\n",
              "    <tr>\n",
              "      <th>2</th>\n",
              "      <td>0.434069</td>\n",
              "      <td>-0.286305</td>\n",
              "      <td>0</td>\n",
              "    </tr>\n",
              "    <tr>\n",
              "      <th>3</th>\n",
              "      <td>0.675293</td>\n",
              "      <td>0.254149</td>\n",
              "      <td>0</td>\n",
              "    </tr>\n",
              "    <tr>\n",
              "      <th>4</th>\n",
              "      <td>0.974782</td>\n",
              "      <td>0.230172</td>\n",
              "      <td>0</td>\n",
              "    </tr>\n",
              "    <tr>\n",
              "      <th>...</th>\n",
              "      <td>...</td>\n",
              "      <td>...</td>\n",
              "      <td>...</td>\n",
              "    </tr>\n",
              "    <tr>\n",
              "      <th>425</th>\n",
              "      <td>-0.474528</td>\n",
              "      <td>0.004256</td>\n",
              "      <td>1</td>\n",
              "    </tr>\n",
              "    <tr>\n",
              "      <th>426</th>\n",
              "      <td>-0.057383</td>\n",
              "      <td>0.159906</td>\n",
              "      <td>1</td>\n",
              "    </tr>\n",
              "    <tr>\n",
              "      <th>427</th>\n",
              "      <td>-0.262125</td>\n",
              "      <td>-0.281590</td>\n",
              "      <td>1</td>\n",
              "    </tr>\n",
              "    <tr>\n",
              "      <th>428</th>\n",
              "      <td>-0.541653</td>\n",
              "      <td>-0.040304</td>\n",
              "      <td>1</td>\n",
              "    </tr>\n",
              "    <tr>\n",
              "      <th>429</th>\n",
              "      <td>-0.122244</td>\n",
              "      <td>0.434846</td>\n",
              "      <td>1</td>\n",
              "    </tr>\n",
              "  </tbody>\n",
              "</table>\n",
              "<p>430 rows × 3 columns</p>\n",
              "</div>"
            ],
            "text/plain": [
              "     Principal Component 1  Principal Component 2  classe\n",
              "0                 0.250521               0.191754       0\n",
              "1                 0.161573               0.400252       0\n",
              "2                 0.434069              -0.286305       0\n",
              "3                 0.675293               0.254149       0\n",
              "4                 0.974782               0.230172       0\n",
              "..                     ...                    ...     ...\n",
              "425              -0.474528               0.004256       1\n",
              "426              -0.057383               0.159906       1\n",
              "427              -0.262125              -0.281590       1\n",
              "428              -0.541653              -0.040304       1\n",
              "429              -0.122244               0.434846       1\n",
              "\n",
              "[430 rows x 3 columns]"
            ]
          },
          "metadata": {
            "tags": []
          }
        }
      ]
    }
  ]
}