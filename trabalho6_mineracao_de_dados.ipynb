{
  "nbformat": 4,
  "nbformat_minor": 0,
  "metadata": {
    "colab": {
      "name": "trabalho6-mineracao_de_dados.ipynb",
      "provenance": [],
      "collapsed_sections": [],
      "toc_visible": true
    },
    "kernelspec": {
      "name": "python3",
      "display_name": "Python 3"
    }
  },
  "cells": [
    {
      "cell_type": "markdown",
      "metadata": {
        "id": "LvRWm0p-IaZT"
      },
      "source": [
        "# Trabalho 6 - Mineração de Dados - DCC 127\n",
        "## Professor: Heder Soares Bernardino\n",
        "\n",
        "### Lucas Augusto Muller\n",
        "### Pedro Henrique Muniz"
      ]
    },
    {
      "cell_type": "code",
      "metadata": {
        "colab": {
          "base_uri": "https://localhost:8080/"
        },
        "id": "W-Puq326sXuN",
        "outputId": "4bb70891-8f99-4357-9845-3ac5800b0b35"
      },
      "source": [
        "!git clone https://github.com/lucasmullers/mineracao-2020.3.git"
      ],
      "execution_count": null,
      "outputs": [
        {
          "output_type": "stream",
          "text": [
            "Cloning into 'mineracao-2020.3'...\n",
            "remote: Enumerating objects: 16, done.\u001b[K\n",
            "remote: Counting objects: 100% (16/16), done.\u001b[K\n",
            "remote: Compressing objects: 100% (15/15), done.\u001b[K\n",
            "remote: Total 16 (delta 5), reused 10 (delta 1), pack-reused 0\u001b[K\n",
            "Unpacking objects: 100% (16/16), done.\n"
          ],
          "name": "stdout"
        }
      ]
    },
    {
      "cell_type": "code",
      "metadata": {
        "id": "Kd4vd3G5sgLL"
      },
      "source": [
        "import numpy as np\n",
        "import pandas as pd\n",
        "import matplotlib.pyplot as plt\n",
        "import IPython"
      ],
      "execution_count": null,
      "outputs": []
    },
    {
      "cell_type": "markdown",
      "metadata": {
        "id": "DCYVBs5KSZOZ"
      },
      "source": [
        "# Pré-processamento dos dados"
      ]
    },
    {
      "cell_type": "markdown",
      "metadata": {
        "id": "ovN97KV3Iyr5"
      },
      "source": [
        "Inicialmente foi importado o dataset, as informações foram impressas e foi checado se existiam valores não nulos. "
      ]
    },
    {
      "cell_type": "markdown",
      "metadata": {
        "id": "em88asMpStII"
      },
      "source": [
        "## Importando os dados de treinamento e teste"
      ]
    },
    {
      "cell_type": "code",
      "metadata": {
        "colab": {
          "base_uri": "https://localhost:8080/"
        },
        "id": "FxrhWEFAskw0",
        "outputId": "0ee5da32-bee1-42e6-cb34-7ac38aecbeb1"
      },
      "source": [
        "df = pd.read_csv('./mineracao-2020.3/trabalho6_dados_5.csv')\n",
        "\n",
        "print(df)\n",
        "print()\n",
        "print(df.info())\n",
        "print()\n",
        "print(df.describe())"
      ],
      "execution_count": null,
      "outputs": [
        {
          "output_type": "stream",
          "text": [
            "       temperatura  vacuo  energia\n",
            "0             9.77  34.69   477.51\n",
            "1            31.54  67.32   433.02\n",
            "2            13.63  40.92   462.40\n",
            "3             9.61  44.03   473.54\n",
            "4             5.35  35.79   483.20\n",
            "...            ...    ...      ...\n",
            "11477        32.14  68.31   436.15\n",
            "11478        21.90  63.13   447.40\n",
            "11479        12.72  44.90   463.49\n",
            "11480        22.70  60.84   438.59\n",
            "11481        18.64  43.79   465.13\n",
            "\n",
            "[11482 rows x 3 columns]\n",
            "\n",
            "<class 'pandas.core.frame.DataFrame'>\n",
            "RangeIndex: 11482 entries, 0 to 11481\n",
            "Data columns (total 3 columns):\n",
            " #   Column       Non-Null Count  Dtype  \n",
            "---  ------       --------------  -----  \n",
            " 0   temperatura  11482 non-null  float64\n",
            " 1   vacuo        11482 non-null  float64\n",
            " 2   energia      11482 non-null  float64\n",
            "dtypes: float64(3)\n",
            "memory usage: 269.2 KB\n",
            "None\n",
            "\n",
            "        temperatura         vacuo       energia\n",
            "count  11482.000000  11482.000000  11482.000000\n",
            "mean      19.680066     54.319321    454.373096\n",
            "std        7.503070     12.738588     17.223007\n",
            "min        2.640000     25.360000    420.260000\n",
            "25%       13.480000     41.670000    439.615000\n",
            "50%       20.375000     52.080000    451.500000\n",
            "75%       25.827500     66.540000    468.750000\n",
            "max       37.110000     80.250000    495.760000\n"
          ],
          "name": "stdout"
        }
      ]
    },
    {
      "cell_type": "markdown",
      "metadata": {
        "id": "t2CdyJSfJPV1"
      },
      "source": [
        "Foi importada a base de teste que será utilizada para predizer todos os valores de energia, com base nos atributos de \"temperatura\" e \"vacuo\"\n"
      ]
    },
    {
      "cell_type": "code",
      "metadata": {
        "colab": {
          "base_uri": "https://localhost:8080/"
        },
        "id": "QCVp8oVMwGJu",
        "outputId": "222f10e1-41f7-4e39-833d-c23d3acc9c15"
      },
      "source": [
        "df_test = pd.read_csv('./mineracao-2020.3/trabalho6_teste.csv')\n",
        "print(df_test[:5])\n",
        "print()\n",
        "print(df_test.info())\n",
        "print()\n",
        "print(df_test.describe())"
      ],
      "execution_count": null,
      "outputs": [
        {
          "output_type": "stream",
          "text": [
            "   temperatura  vacuo\n",
            "0         8.34  40.77\n",
            "1        23.64  58.49\n",
            "2        29.74  56.90\n",
            "3        19.07  49.69\n",
            "4        11.80  40.66\n",
            "\n",
            "<class 'pandas.core.frame.DataFrame'>\n",
            "RangeIndex: 9568 entries, 0 to 9567\n",
            "Data columns (total 2 columns):\n",
            " #   Column       Non-Null Count  Dtype  \n",
            "---  ------       --------------  -----  \n",
            " 0   temperatura  9568 non-null   float64\n",
            " 1   vacuo        9568 non-null   float64\n",
            "dtypes: float64(2)\n",
            "memory usage: 149.6 KB\n",
            "None\n",
            "\n",
            "       temperatura        vacuo\n",
            "count  9568.000000  9568.000000\n",
            "mean     19.651231    54.305804\n",
            "std       7.452473    12.707893\n",
            "min       1.810000    25.360000\n",
            "25%      13.510000    41.740000\n",
            "50%      20.345000    52.080000\n",
            "75%      25.720000    66.540000\n",
            "max      37.110000    81.560000\n"
          ],
          "name": "stdout"
        }
      ]
    },
    {
      "cell_type": "markdown",
      "metadata": {
        "id": "19ACWhoBTE4a"
      },
      "source": [
        "## Checagem na correlação dos dados"
      ]
    },
    {
      "cell_type": "markdown",
      "metadata": {
        "id": "S2fjJWmWKZLT"
      },
      "source": [
        "Percebe-se que existe uma correlação alta entre os atributos \"temperatura\" e \"vacuo\" e uma correlação alta, negativa, com o atributo \"energia\""
      ]
    },
    {
      "cell_type": "code",
      "metadata": {
        "colab": {
          "base_uri": "https://localhost:8080/",
          "height": 321
        },
        "id": "-gF2zmXFsvUt",
        "outputId": "112eb4df-a8e2-4a61-a062-7f75de8ee6a0"
      },
      "source": [
        "print(\"Train dataset correlation\")\n",
        "display(df.corr())\n",
        "\n",
        "print(\"\\n\\n\\nTest dataset correlation\")\n",
        "display(df_test.corr())"
      ],
      "execution_count": null,
      "outputs": [
        {
          "output_type": "stream",
          "text": [
            "Train dataset correlation\n"
          ],
          "name": "stdout"
        },
        {
          "output_type": "display_data",
          "data": {
            "text/html": [
              "<div>\n",
              "<style scoped>\n",
              "    .dataframe tbody tr th:only-of-type {\n",
              "        vertical-align: middle;\n",
              "    }\n",
              "\n",
              "    .dataframe tbody tr th {\n",
              "        vertical-align: top;\n",
              "    }\n",
              "\n",
              "    .dataframe thead th {\n",
              "        text-align: right;\n",
              "    }\n",
              "</style>\n",
              "<table border=\"1\" class=\"dataframe\">\n",
              "  <thead>\n",
              "    <tr style=\"text-align: right;\">\n",
              "      <th></th>\n",
              "      <th>temperatura</th>\n",
              "      <th>vacuo</th>\n",
              "      <th>energia</th>\n",
              "    </tr>\n",
              "  </thead>\n",
              "  <tbody>\n",
              "    <tr>\n",
              "      <th>temperatura</th>\n",
              "      <td>1.000000</td>\n",
              "      <td>0.849058</td>\n",
              "      <td>-0.951011</td>\n",
              "    </tr>\n",
              "    <tr>\n",
              "      <th>vacuo</th>\n",
              "      <td>0.849058</td>\n",
              "      <td>1.000000</td>\n",
              "      <td>-0.872401</td>\n",
              "    </tr>\n",
              "    <tr>\n",
              "      <th>energia</th>\n",
              "      <td>-0.951011</td>\n",
              "      <td>-0.872401</td>\n",
              "      <td>1.000000</td>\n",
              "    </tr>\n",
              "  </tbody>\n",
              "</table>\n",
              "</div>"
            ],
            "text/plain": [
              "             temperatura     vacuo   energia\n",
              "temperatura     1.000000  0.849058 -0.951011\n",
              "vacuo           0.849058  1.000000 -0.872401\n",
              "energia        -0.951011 -0.872401  1.000000"
            ]
          },
          "metadata": {
            "tags": []
          }
        },
        {
          "output_type": "stream",
          "text": [
            "\n",
            "\n",
            "\n",
            "Test dataset correlation\n"
          ],
          "name": "stdout"
        },
        {
          "output_type": "display_data",
          "data": {
            "text/html": [
              "<div>\n",
              "<style scoped>\n",
              "    .dataframe tbody tr th:only-of-type {\n",
              "        vertical-align: middle;\n",
              "    }\n",
              "\n",
              "    .dataframe tbody tr th {\n",
              "        vertical-align: top;\n",
              "    }\n",
              "\n",
              "    .dataframe thead th {\n",
              "        text-align: right;\n",
              "    }\n",
              "</style>\n",
              "<table border=\"1\" class=\"dataframe\">\n",
              "  <thead>\n",
              "    <tr style=\"text-align: right;\">\n",
              "      <th></th>\n",
              "      <th>temperatura</th>\n",
              "      <th>vacuo</th>\n",
              "    </tr>\n",
              "  </thead>\n",
              "  <tbody>\n",
              "    <tr>\n",
              "      <th>temperatura</th>\n",
              "      <td>1.000000</td>\n",
              "      <td>0.844107</td>\n",
              "    </tr>\n",
              "    <tr>\n",
              "      <th>vacuo</th>\n",
              "      <td>0.844107</td>\n",
              "      <td>1.000000</td>\n",
              "    </tr>\n",
              "  </tbody>\n",
              "</table>\n",
              "</div>"
            ],
            "text/plain": [
              "             temperatura     vacuo\n",
              "temperatura     1.000000  0.844107\n",
              "vacuo           0.844107  1.000000"
            ]
          },
          "metadata": {
            "tags": []
          }
        }
      ]
    },
    {
      "cell_type": "markdown",
      "metadata": {
        "id": "uJbeDrmQmnvv"
      },
      "source": [
        "## Checagem de dados duplicados"
      ]
    },
    {
      "cell_type": "code",
      "metadata": {
        "colab": {
          "base_uri": "https://localhost:8080/"
        },
        "id": "b65oUBWshvHu",
        "outputId": "c27cfe3c-c579-46e0-ec74-e62282f740b6"
      },
      "source": [
        "duplicateRowsDF = df[df.duplicated(keep='first')].sort_values('temperatura').reset_index(drop=True)\n",
        "print(\"Duplicate Rows except first occurrence based on all columns are :\")\n",
        "print(duplicateRowsDF)"
      ],
      "execution_count": null,
      "outputs": [
        {
          "output_type": "stream",
          "text": [
            "Duplicate Rows except first occurrence based on all columns are :\n",
            "      temperatura  vacuo  energia\n",
            "0            2.71  39.42   489.30\n",
            "1            2.80  39.64   482.66\n",
            "2            3.21  38.44   492.93\n",
            "3            3.38  39.64   488.92\n",
            "4            3.63  38.44   487.87\n",
            "...           ...    ...      ...\n",
            "4292        34.66  74.33   425.89\n",
            "4293        34.96  68.94   431.48\n",
            "4294        35.01  74.67   428.48\n",
            "4295        35.77  73.56   430.14\n",
            "4296        35.77  73.56   430.14\n",
            "\n",
            "[4297 rows x 3 columns]\n"
          ],
          "name": "stdout"
        }
      ]
    },
    {
      "cell_type": "code",
      "metadata": {
        "colab": {
          "base_uri": "https://localhost:8080/"
        },
        "id": "6_6HAElAj9no",
        "outputId": "a0194aa6-c90f-4884-dc4d-84a0f4dcce26"
      },
      "source": [
        "df = df.drop_duplicates(keep='first').reset_index(drop=True)\n",
        "print(df)"
      ],
      "execution_count": null,
      "outputs": [
        {
          "output_type": "stream",
          "text": [
            "      temperatura  vacuo  energia\n",
            "0            9.77  34.69   477.51\n",
            "1           31.54  67.32   433.02\n",
            "2           13.63  40.92   462.40\n",
            "3            9.61  44.03   473.54\n",
            "4            5.35  35.79   483.20\n",
            "...           ...    ...      ...\n",
            "7180        21.54  58.49   449.12\n",
            "7181        15.74  71.14   457.29\n",
            "7182        10.02  39.66   480.05\n",
            "7183        22.70  60.84   438.59\n",
            "7184        18.64  43.79   465.13\n",
            "\n",
            "[7185 rows x 3 columns]\n"
          ],
          "name": "stdout"
        }
      ]
    },
    {
      "cell_type": "markdown",
      "metadata": {
        "id": "dwTWd2u7S7W4"
      },
      "source": [
        "## Remoção de outliers com OPTICS e DBSCAN\n",
        "\n",
        "De forma análoga ao trabalho anterior, foi utilizado os métodos de agrupamento OPTICS e DBSCAN. Inicialmente foi utilizado o OPTICS para definir o parâmetro \"eps\" a ser utilizado no DBSCAN."
      ]
    },
    {
      "cell_type": "code",
      "metadata": {
        "colab": {
          "base_uri": "https://localhost:8080/",
          "height": 299
        },
        "id": "du-1_rtiPLNU",
        "outputId": "07bba555-fbed-492b-b965-1065c0f0f2f3"
      },
      "source": [
        "from sklearn.cluster import OPTICS, DBSCAN\n",
        "\n",
        "opticModel = OPTICS(min_samples=10, max_eps=5.0, xi=0.15)\n",
        "y_optic = opticModel.fit_predict(df)\n",
        "\n",
        "print('Optic Model')\n",
        "print('Number of clusters: {}'.format(len(set(opticModel.labels_))))\n",
        "space = np.arange(len(df))\n",
        "reachability = opticModel.reachability_[opticModel.ordering_]\n",
        "labels = opticModel.labels_[opticModel.ordering_]\n",
        "colors = [ \"b.\", \"y.\", \"r.\", \"g.\", \"c.\" ]\n",
        "for cclass, color in zip( range(0, 5), colors ):\n",
        "  Xk = space[ labels==cclass ]\n",
        "  Rk = reachability[ labels==cclass ]\n",
        "  plt.plot(Xk, Rk, color, alpha=0.3)\n",
        "\n",
        "plt.axhline(y=2.0, linewidth=2, color = 'red')\n",
        "plt.plot( space[ labels == -1 ], reachability[ labels==-1 ], \"k.\", alpha=0.3 )\n",
        "plt.show()"
      ],
      "execution_count": null,
      "outputs": [
        {
          "output_type": "stream",
          "text": [
            "Optic Model\n",
            "Number of clusters: 4\n"
          ],
          "name": "stdout"
        },
        {
          "output_type": "display_data",
          "data": {
            "image/png": "[encoded data removed]",
            "text/plain": [
              "<Figure size 432x288 with 1 Axes>"
            ]
          },
          "metadata": {
            "tags": [],
            "needs_background": "light"
          }
        }
      ]
    },
    {
      "cell_type": "markdown",
      "metadata": {
        "id": "_nne5fT7LjdB"
      },
      "source": [
        "Com isso, foram encontrados 167 outliers, de um total de 11482 registros"
      ]
    },
    {
      "cell_type": "code",
      "metadata": {
        "colab": {
          "base_uri": "https://localhost:8080/",
          "height": 436
        },
        "id": "pdFBvnkkP2P6",
        "outputId": "87bb9ab5-406f-4d22-c2f2-21a486d12703"
      },
      "source": [
        "dbscanModel = DBSCAN(eps=2.0, min_samples=5, metric='euclidean')\n",
        "clustering = dbscanModel.fit(df)\n",
        "y_dbscan = dbscanModel.fit_predict(df)\n",
        "print(np.count_nonzero(y_dbscan == -1))\n",
        "\n",
        "df['outliers'] = clustering.labels_\n",
        "df = df[df['outliers'] != -1]\n",
        "df = df.drop('outliers', axis=1).reset_index(drop=True)\n",
        "display(df)\n",
        "X = df.iloc[:, :2]\n",
        "y = df.iloc[:, 2:]"
      ],
      "execution_count": null,
      "outputs": [
        {
          "output_type": "stream",
          "text": [
            "150\n"
          ],
          "name": "stdout"
        },
        {
          "output_type": "display_data",
          "data": {
            "text/html": [
              "<div>\n",
              "<style scoped>\n",
              "    .dataframe tbody tr th:only-of-type {\n",
              "        vertical-align: middle;\n",
              "    }\n",
              "\n",
              "    .dataframe tbody tr th {\n",
              "        vertical-align: top;\n",
              "    }\n",
              "\n",
              "    .dataframe thead th {\n",
              "        text-align: right;\n",
              "    }\n",
              "</style>\n",
              "<table border=\"1\" class=\"dataframe\">\n",
              "  <thead>\n",
              "    <tr style=\"text-align: right;\">\n",
              "      <th></th>\n",
              "      <th>temperatura</th>\n",
              "      <th>vacuo</th>\n",
              "      <th>energia</th>\n",
              "    </tr>\n",
              "  </thead>\n",
              "  <tbody>\n",
              "    <tr>\n",
              "      <th>0</th>\n",
              "      <td>9.77</td>\n",
              "      <td>34.69</td>\n",
              "      <td>477.51</td>\n",
              "    </tr>\n",
              "    <tr>\n",
              "      <th>1</th>\n",
              "      <td>31.54</td>\n",
              "      <td>67.32</td>\n",
              "      <td>433.02</td>\n",
              "    </tr>\n",
              "    <tr>\n",
              "      <th>2</th>\n",
              "      <td>13.63</td>\n",
              "      <td>40.92</td>\n",
              "      <td>462.40</td>\n",
              "    </tr>\n",
              "    <tr>\n",
              "      <th>3</th>\n",
              "      <td>9.61</td>\n",
              "      <td>44.03</td>\n",
              "      <td>473.54</td>\n",
              "    </tr>\n",
              "    <tr>\n",
              "      <th>4</th>\n",
              "      <td>5.35</td>\n",
              "      <td>35.79</td>\n",
              "      <td>483.20</td>\n",
              "    </tr>\n",
              "    <tr>\n",
              "      <th>...</th>\n",
              "      <td>...</td>\n",
              "      <td>...</td>\n",
              "      <td>...</td>\n",
              "    </tr>\n",
              "    <tr>\n",
              "      <th>7030</th>\n",
              "      <td>7.79</td>\n",
              "      <td>43.13</td>\n",
              "      <td>484.42</td>\n",
              "    </tr>\n",
              "    <tr>\n",
              "      <th>7031</th>\n",
              "      <td>21.54</td>\n",
              "      <td>58.49</td>\n",
              "      <td>449.12</td>\n",
              "    </tr>\n",
              "    <tr>\n",
              "      <th>7032</th>\n",
              "      <td>10.02</td>\n",
              "      <td>39.66</td>\n",
              "      <td>480.05</td>\n",
              "    </tr>\n",
              "    <tr>\n",
              "      <th>7033</th>\n",
              "      <td>22.70</td>\n",
              "      <td>60.84</td>\n",
              "      <td>438.59</td>\n",
              "    </tr>\n",
              "    <tr>\n",
              "      <th>7034</th>\n",
              "      <td>18.64</td>\n",
              "      <td>43.79</td>\n",
              "      <td>465.13</td>\n",
              "    </tr>\n",
              "  </tbody>\n",
              "</table>\n",
              "<p>7035 rows × 3 columns</p>\n",
              "</div>"
            ],
            "text/plain": [
              "      temperatura  vacuo  energia\n",
              "0            9.77  34.69   477.51\n",
              "1           31.54  67.32   433.02\n",
              "2           13.63  40.92   462.40\n",
              "3            9.61  44.03   473.54\n",
              "4            5.35  35.79   483.20\n",
              "...           ...    ...      ...\n",
              "7030         7.79  43.13   484.42\n",
              "7031        21.54  58.49   449.12\n",
              "7032        10.02  39.66   480.05\n",
              "7033        22.70  60.84   438.59\n",
              "7034        18.64  43.79   465.13\n",
              "\n",
              "[7035 rows x 3 columns]"
            ]
          },
          "metadata": {
            "tags": []
          }
        }
      ]
    },
    {
      "cell_type": "markdown",
      "metadata": {
        "id": "zMTOx3_rb7av"
      },
      "source": [
        "## Plotagem do gráfico 3d"
      ]
    },
    {
      "cell_type": "markdown",
      "metadata": {
        "id": "bgBr2z8uL9yY"
      },
      "source": [
        "Para uma melhor visualização dos gráficos, foi gerado um gráfico com os três atributos"
      ]
    },
    {
      "cell_type": "code",
      "metadata": {
        "colab": {
          "base_uri": "https://localhost:8080/",
          "height": 248
        },
        "id": "fjd9VFISVXTq",
        "outputId": "b86f3bff-f8e3-4a91-819c-a700cf338491"
      },
      "source": [
        "# https://matplotlib.org/mpl_toolkits/mplot3d/tutorial.html\n",
        "\n",
        "from mpl_toolkits.mplot3d import Axes3D\n",
        "\n",
        "fig = plt.figure()\n",
        "ax = fig.add_subplot(projection=\"3d\")\n",
        "ax.scatter(X.iloc[:, 0], X.iloc[:, 1], y, marker=\"o\", c=\"black\")\n",
        "ax.set_xlabel(\"temperatura\")\n",
        "ax.set_ylabel(\"vacuo\")\n",
        "ax.set_zlabel(\"energia\")\n",
        "\n",
        "plt.show() "
      ],
      "execution_count": null,
      "outputs": [
        {
          "output_type": "display_data",
          "data": {
            "image/png": "[encoded data removed]",
            "text/plain": [
              "<Figure size 432x288 with 1 Axes>"
            ]
          },
          "metadata": {
            "tags": [],
            "needs_background": "light"
          }
        }
      ]
    },
    {
      "cell_type": "markdown",
      "metadata": {
        "id": "389PLNS-cCW3"
      },
      "source": [
        "# Regressão"
      ]
    },
    {
      "cell_type": "markdown",
      "metadata": {
        "id": "ZpPmOY4ZMG0m"
      },
      "source": [
        "Para a parte de regressão, foi utilizado o pacote do sklearn e foram gerados 4 conjuntos. X e Y, para treino e teste. Foi utilizado 70% da base de dados para treino e o restante para teste.\n",
        "\n",
        "Para analisar o desempenho dos diversos tipos de regressão utilizados, foram utilizadas as métricas MSE, MAE e R2."
      ]
    },
    {
      "cell_type": "code",
      "metadata": {
        "id": "YObEbuc0enP9"
      },
      "source": [
        "from sklearn.model_selection import train_test_split\n",
        "x_train, x_test, y_train, y_test = train_test_split( X, y, test_size=0.3, random_state=42 )"
      ],
      "execution_count": null,
      "outputs": []
    },
    {
      "cell_type": "code",
      "metadata": {
        "id": "W-d6647ohUca"
      },
      "source": [
        "from sklearn.model_selection import GridSearchCV\n",
        "from sklearn.metrics import mean_absolute_error, mean_squared_error, r2_score\n",
        "\n",
        "def grid_search(X, y, method, param_dict):\n",
        "    # cv = [(slice(None), slice(None))]\n",
        "    gs = GridSearchCV(estimator=method, param_grid=param_dict)\n",
        "    gs.fit(X, y)\n",
        "    print(gs.best_params_)\n",
        "    return gs.best_params_\n",
        "\n",
        "def calculate_metrics(y_true, y_pred):\n",
        "    print(\"MSE Score: {}\".format(mean_squared_error(y_true=y_true, y_pred=y_pred)))\n",
        "    print(\"MAE Score: {}\".format(mean_absolute_error(y_true=y_true, y_pred=y_pred)))\n",
        "    print(\"R2 Score: {}\".format(r2_score(y_true=y_true, y_pred=y_pred)))"
      ],
      "execution_count": null,
      "outputs": []
    },
    {
      "cell_type": "markdown",
      "metadata": {
        "id": "1HOv9CJQ_Mlu"
      },
      "source": [
        "## Linear Regression"
      ]
    },
    {
      "cell_type": "markdown",
      "metadata": {
        "id": "vR1pf5gYMY_a"
      },
      "source": [
        "A regressão linear obteve resultados bem satisfatórios, visto que é um método bastante simples. Apesar disso, foi o método que obteve o pior desempenho dentre os utilizados neste trabalho."
      ]
    },
    {
      "cell_type": "code",
      "metadata": {
        "colab": {
          "base_uri": "https://localhost:8080/"
        },
        "id": "sT1OO3ld_PVk",
        "outputId": "8d683dfc-5cae-4bf5-9620-f742135b66d1"
      },
      "source": [
        "from sklearn.linear_model import LinearRegression\n",
        "\n",
        "lr = LinearRegression()\n",
        "lr.fit(x_train, y_train)\n",
        "\n",
        "y_pred_test = lr.predict(x_test)\n",
        "calculate_metrics(y_test, y_pred_test)"
      ],
      "execution_count": null,
      "outputs": [
        {
          "output_type": "stream",
          "text": [
            "MSE Score: 20.773644582726867\n",
            "MAE Score: 3.695969600945898\n",
            "R2 Score: 0.9257146705529831\n"
          ],
          "name": "stdout"
        }
      ]
    },
    {
      "cell_type": "markdown",
      "metadata": {
        "id": "sBgS-s8ZinAY"
      },
      "source": [
        "## K Neighbors Regressor\n",
        "\n",
        "Já a regressão com KNN obteve o melor valor em todas as métricas, comparando-se ao demais métodos utilizados aqui, atingindo um valor d 0.974 na métrica R2"
      ]
    },
    {
      "cell_type": "code",
      "metadata": {
        "colab": {
          "base_uri": "https://localhost:8080/"
        },
        "id": "Ru-JCHUpf8XT",
        "outputId": "ae823a11-5e45-4256-d1d0-1168ddc36bdc"
      },
      "source": [
        "from sklearn.neighbors import KNeighborsRegressor\n",
        "\n",
        "params = [{'weights': ['uniform', 'distance'], 'n_neighbors': [25, 26, 27, 28, 29, 30, 31, 32, 33, 34, 35]}]\n",
        "best_params_ = grid_search(x_train, y_train, KNeighborsRegressor(), params)\n",
        "\n",
        "kNN = KNeighborsRegressor( n_neighbors=best_params_['n_neighbors'], weights=best_params_['weights'] )\n",
        "kNN.fit(x_train, y_train)\n",
        "\n",
        "y_pred_test = kNN.predict(x_test)\n",
        "calculate_metrics(y_test, y_pred_test)"
      ],
      "execution_count": null,
      "outputs": [
        {
          "output_type": "stream",
          "text": [
            "{'n_neighbors': 28, 'weights': 'distance'}\n",
            "MSE Score: 14.737953572223823\n",
            "MAE Score: 3.018556554906174\n",
            "R2 Score: 0.9472979461005212\n"
          ],
          "name": "stdout"
        }
      ]
    },
    {
      "cell_type": "markdown",
      "metadata": {
        "id": "9rU1aiVR7mH_"
      },
      "source": [
        "## Radius Neighbors Regressor\n",
        "\n",
        "O RNN também obteve bons resultados, melhores do que a regressão linear. Alcançou 0.964 na métrica R2."
      ]
    },
    {
      "cell_type": "code",
      "metadata": {
        "colab": {
          "base_uri": "https://localhost:8080/"
        },
        "id": "t6bP59Rp7qSH",
        "outputId": "5dfc8e02-a3e2-4580-fbe9-9b3b12ef4f41"
      },
      "source": [
        "from sklearn.neighbors import RadiusNeighborsRegressor\n",
        "\n",
        "params = [{'radius':[8.0, 8.1, 8.2, 8.3, 8.4, 8.5, 8.6], 'weights': ['uniform', 'distance']}]\n",
        "best_params_ = grid_search(x_train, y_train, RadiusNeighborsRegressor(), params)\n",
        "\n",
        "rNN = RadiusNeighborsRegressor( radius=best_params_['radius'], weights=best_params_['weights'] )\n",
        "rNN.fit(x_train, y_train)\n",
        "\n",
        "y_pred_test = rNN.predict(x_test)\n",
        "calculate_metrics(y_test, y_pred_test)"
      ],
      "execution_count": null,
      "outputs": [
        {
          "output_type": "stream",
          "text": [
            "{'radius': 8.0, 'weights': 'distance'}\n",
            "MSE Score: 20.64048009511345\n",
            "MAE Score: 3.721173162461584\n",
            "R2 Score: 0.9261908589172161\n"
          ],
          "name": "stdout"
        }
      ]
    },
    {
      "cell_type": "markdown",
      "metadata": {
        "id": "RHXQUWjB7ZXB"
      },
      "source": [
        "## Decision Tree Regressor\n",
        "\n",
        "O método por arvore de decisão também obteve bons resultados, ficando bem parecido com o RNN"
      ]
    },
    {
      "cell_type": "code",
      "metadata": {
        "colab": {
          "base_uri": "https://localhost:8080/"
        },
        "id": "g1_-f5v8kFqA",
        "outputId": "69da650f-58a1-483b-ef2c-7838d01791bc"
      },
      "source": [
        "from sklearn.tree import DecisionTreeRegressor\n",
        "\n",
        "params = [{'criterion': ['mse', 'friedman_mse', 'mae'], 'splitter': ['best', 'random'], 'max_depth': [5, 6, 7, 8, 9, 10, 11, 12, 13, 14], 'random_state':[42]}]\n",
        "best_params_ = grid_search(x_train, y_train, DecisionTreeRegressor(), params)\n",
        "\n",
        "tree = DecisionTreeRegressor(criterion=best_params_['criterion'], splitter=best_params_['splitter'], max_depth=best_params_['max_depth'], random_state=42)\n",
        "tree.fit(x_train, y_train)\n",
        "\n",
        "y_pred_test = tree.predict(x_test)\n",
        "calculate_metrics(y_test, y_pred_test)"
      ],
      "execution_count": null,
      "outputs": [
        {
          "output_type": "stream",
          "text": [
            "{'criterion': 'friedman_mse', 'max_depth': 8, 'random_state': 42, 'splitter': 'best'}\n",
            "MSE Score: 15.688505944943994\n",
            "MAE Score: 3.111718777499018\n",
            "R2 Score: 0.9438988268038103\n"
          ],
          "name": "stdout"
        }
      ]
    },
    {
      "cell_type": "markdown",
      "metadata": {
        "id": "PZRH6jZ8_wxf"
      },
      "source": [
        "## Random Forest Regressor\n",
        "\n",
        "De forma semelhante aos demais, utilizando o método \"random forest\", os resultados obtidos também foram muito bons, equiparando-se aos métodos RNN, KNN e arvore de decisão."
      ]
    },
    {
      "cell_type": "code",
      "metadata": {
        "id": "tGuYtt5B_y6F",
        "colab": {
          "base_uri": "https://localhost:8080/"
        },
        "outputId": "3b6742dd-4ebd-46ee-ceb3-3d2179847f74"
      },
      "source": [
        "from sklearn.ensemble import RandomForestRegressor\n",
        "\n",
        "params = [{'n_estimators':[125, 130, 135], 'max_depth': [20, 25, 30, 35], 'random_state':[42]}]\n",
        "best_params_ = grid_search(x_train, y_train.values.ravel(), RandomForestRegressor(), params)\n",
        "\n",
        "forest = RandomForestRegressor(n_estimators=best_params_['n_estimators'], max_depth=best_params_['max_depth'], random_state=42)\n",
        "# forest = RandomForestRegressor(max_depth=25, random_state=42)\n",
        "forest.fit(x_train, y_train.values.ravel())\n",
        "\n",
        "y_pred_test = tree.predict(x_test)\n",
        "calculate_metrics(y_test, y_pred_test)"
      ],
      "execution_count": null,
      "outputs": [
        {
          "output_type": "stream",
          "text": [
            "{'max_depth': 30, 'n_estimators': 130, 'random_state': 42}\n",
            "MSE Score: 15.688505944943994\n",
            "MAE Score: 3.111718777499018\n",
            "R2 Score: 0.9438988268038103\n"
          ],
          "name": "stdout"
        }
      ]
    },
    {
      "cell_type": "markdown",
      "metadata": {
        "id": "nIt6_45fOYDW"
      },
      "source": [
        "## Sumarização dos resultados obtidos\n",
        "|           Método           |                  Parâmetros                 | Mean Squared Error | Mean Absolute Error | R2 Score |\n",
        "|:--------------------------:|:-------------------------------------------:|:------------------:|:-------------------:|:--------:|\n",
        "|      Linear Regression     |                      -                      |       20.7736      |        3.6960       |  0.9257  |\n",
        "|    K Neighbors Regressor   |      n_neighbors: 28 weights: distance      |       **14.7380**       |        **3.0186**       |  **0.9473**  |\n",
        "| Radius Neighbors Regressor |        radius: 8.6 weights: distance        |       20.6404      |        3.7211       |  0.9262  |\n",
        "|   Decision Tree Regressor  | criterion: friedman_mse max_depth: 8 splitter: best |       15.6885      |        3.1117       |  0.9439  |\n",
        "|   Random Forest Regressor  |       max_depth: 30 n_estimators: 130       |       15.6885      |        3.1117       |  0.9439  |"
      ]
    },
    {
      "cell_type": "markdown",
      "metadata": {
        "id": "7tA1H28ZmfgP"
      },
      "source": [
        "# Pedrizendo os resultados de teste\n",
        "\n",
        "Os resultados dos métodos indicam que o kNN se saiu melhor de acordo com as 3 métricas, portanto iremos utilizar este método para predizer o valor de energia da base de dados \"trabalho6_teste.csv\".\n",
        "\n",
        "Na base de dados de teste nós não aplicamos nenhum pré-processamento, apesar de termos detectado a presença de valores duplicados, pois no enunciado do trabalho diz que os valores de energia devem ser enviados na ordem que aparecem na base, então se removermos estes valores a ordem ficará diferente."
      ]
    },
    {
      "cell_type": "code",
      "metadata": {
        "colab": {
          "base_uri": "https://localhost:8080/",
          "height": 419
        },
        "id": "toDSCV3em4Ni",
        "outputId": "f999c994-df70-415d-a1a3-550232fa5b11"
      },
      "source": [
        "y_pred = kNN.predict(df_test)\n",
        "df_test['energia'] = y_pred\n",
        "display(df_test)"
      ],
      "execution_count": null,
      "outputs": [
        {
          "output_type": "display_data",
          "data": {
            "text/html": [
              "<div>\n",
              "<style scoped>\n",
              "    .dataframe tbody tr th:only-of-type {\n",
              "        vertical-align: middle;\n",
              "    }\n",
              "\n",
              "    .dataframe tbody tr th {\n",
              "        vertical-align: top;\n",
              "    }\n",
              "\n",
              "    .dataframe thead th {\n",
              "        text-align: right;\n",
              "    }\n",
              "</style>\n",
              "<table border=\"1\" class=\"dataframe\">\n",
              "  <thead>\n",
              "    <tr style=\"text-align: right;\">\n",
              "      <th></th>\n",
              "      <th>temperatura</th>\n",
              "      <th>vacuo</th>\n",
              "      <th>energia</th>\n",
              "    </tr>\n",
              "  </thead>\n",
              "  <tbody>\n",
              "    <tr>\n",
              "      <th>0</th>\n",
              "      <td>8.34</td>\n",
              "      <td>40.77</td>\n",
              "      <td>482.699301</td>\n",
              "    </tr>\n",
              "    <tr>\n",
              "      <th>1</th>\n",
              "      <td>23.64</td>\n",
              "      <td>58.49</td>\n",
              "      <td>445.963284</td>\n",
              "    </tr>\n",
              "    <tr>\n",
              "      <th>2</th>\n",
              "      <td>29.74</td>\n",
              "      <td>56.90</td>\n",
              "      <td>437.177682</td>\n",
              "    </tr>\n",
              "    <tr>\n",
              "      <th>3</th>\n",
              "      <td>19.07</td>\n",
              "      <td>49.69</td>\n",
              "      <td>453.090000</td>\n",
              "    </tr>\n",
              "    <tr>\n",
              "      <th>4</th>\n",
              "      <td>11.80</td>\n",
              "      <td>40.66</td>\n",
              "      <td>464.430000</td>\n",
              "    </tr>\n",
              "    <tr>\n",
              "      <th>...</th>\n",
              "      <td>...</td>\n",
              "      <td>...</td>\n",
              "      <td>...</td>\n",
              "    </tr>\n",
              "    <tr>\n",
              "      <th>9563</th>\n",
              "      <td>15.12</td>\n",
              "      <td>48.92</td>\n",
              "      <td>462.590000</td>\n",
              "    </tr>\n",
              "    <tr>\n",
              "      <th>9564</th>\n",
              "      <td>33.41</td>\n",
              "      <td>77.95</td>\n",
              "      <td>432.900000</td>\n",
              "    </tr>\n",
              "    <tr>\n",
              "      <th>9565</th>\n",
              "      <td>15.99</td>\n",
              "      <td>43.34</td>\n",
              "      <td>463.537776</td>\n",
              "    </tr>\n",
              "    <tr>\n",
              "      <th>9566</th>\n",
              "      <td>17.65</td>\n",
              "      <td>59.87</td>\n",
              "      <td>453.015834</td>\n",
              "    </tr>\n",
              "    <tr>\n",
              "      <th>9567</th>\n",
              "      <td>23.68</td>\n",
              "      <td>51.30</td>\n",
              "      <td>445.858977</td>\n",
              "    </tr>\n",
              "  </tbody>\n",
              "</table>\n",
              "<p>9568 rows × 3 columns</p>\n",
              "</div>"
            ],
            "text/plain": [
              "      temperatura  vacuo     energia\n",
              "0            8.34  40.77  482.699301\n",
              "1           23.64  58.49  445.963284\n",
              "2           29.74  56.90  437.177682\n",
              "3           19.07  49.69  453.090000\n",
              "4           11.80  40.66  464.430000\n",
              "...           ...    ...         ...\n",
              "9563        15.12  48.92  462.590000\n",
              "9564        33.41  77.95  432.900000\n",
              "9565        15.99  43.34  463.537776\n",
              "9566        17.65  59.87  453.015834\n",
              "9567        23.68  51.30  445.858977\n",
              "\n",
              "[9568 rows x 3 columns]"
            ]
          },
          "metadata": {
            "tags": []
          }
        }
      ]
    },
    {
      "cell_type": "code",
      "metadata": {
        "colab": {
          "base_uri": "https://localhost:8080/"
        },
        "id": "GjQhLDq4ofeV",
        "outputId": "92e8fd43-17e8-42ac-9ca8-176ba600c06a"
      },
      "source": [
        "from google.colab import drive\n",
        "drive.mount(\"/content/drive\")"
      ],
      "execution_count": null,
      "outputs": [
        {
          "output_type": "stream",
          "text": [
            "Mounted at /content/drive\n"
          ],
          "name": "stdout"
        }
      ]
    },
    {
      "cell_type": "code",
      "metadata": {
        "id": "9606GnQholOO"
      },
      "source": [
        "df_test.to_csv('/content/drive/MyDrive/Mineração de Dados/trabalho6_teste.csv', index=False)"
      ],
      "execution_count": null,
      "outputs": []
    }
  ]
}